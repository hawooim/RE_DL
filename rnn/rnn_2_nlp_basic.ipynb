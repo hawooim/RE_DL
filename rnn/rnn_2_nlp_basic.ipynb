{
 "cells": [
  {
   "cell_type": "code",
   "execution_count": 1,
   "id": "e16bdeb2",
   "metadata": {},
   "outputs": [
    {
     "data": {
      "text/plain": [
       "{'jane': 1, 'really': 2, 'likes': 3, 'me': 4, 'movies': 5}"
      ]
     },
     "execution_count": 1,
     "metadata": {},
     "output_type": "execute_result"
    }
   ],
   "source": [
    "# tensorflow tokenizer\n",
    "\n",
    "from tensorflow.keras.preprocessing.text import Tokenizer\n",
    "\n",
    "sentences = ['Jane really really likes me', \n",
    "             'Jane likes movies']\n",
    "\n",
    "tokenizer = Tokenizer()\n",
    "tokenizer.fit_on_texts(sentences)\n",
    "\n",
    "tokenizer.word_index"
   ]
  },
  {
   "cell_type": "code",
   "execution_count": 2,
   "id": "595e4a2f",
   "metadata": {},
   "outputs": [
    {
     "data": {
      "text/plain": [
       "[[1, 2, 2, 3, 4], [1, 3, 5]]"
      ]
     },
     "execution_count": 2,
     "metadata": {},
     "output_type": "execute_result"
    }
   ],
   "source": [
    "# texts_to_sequences\n",
    "\n",
    "word_encoding = tokenizer.texts_to_sequences(sentences)\n",
    "word_encoding"
   ]
  },
  {
   "cell_type": "code",
   "execution_count": 3,
   "id": "5cdc7416",
   "metadata": {},
   "outputs": [
    {
     "data": {
      "text/plain": [
       "[[1, 3, 4]]"
      ]
     },
     "execution_count": 3,
     "metadata": {},
     "output_type": "execute_result"
    }
   ],
   "source": [
    "# what if a new word that is not in vocabulary comes in?\n",
    "\n",
    "new_sentences = ['Jane likes me and Tom']\n",
    "new_word_encoding = tokenizer.texts_to_sequences(new_sentences)\n",
    "new_word_encoding\n",
    "\n",
    "# and/Tom are missing"
   ]
  },
  {
   "cell_type": "code",
   "execution_count": 4,
   "id": "901cf376",
   "metadata": {},
   "outputs": [
    {
     "name": "stdout",
     "output_type": "stream",
     "text": [
      "{'<OOV>': 1, 'jane': 2, 'really': 3, 'likes': 4, 'me': 5, 'movies': 6}\n",
      "[[2, 4, 5, 1, 1]]\n"
     ]
    }
   ],
   "source": [
    "## process OOV (out of vacabulary)\n",
    "\n",
    "tokenizer = Tokenizer(oov_token='<OOV>')\n",
    "tokenizer.fit_on_texts(sentences)\n",
    "word_index = tokenizer.word_index\n",
    "\n",
    "new_word_encoding = tokenizer.texts_to_sequences(new_sentences)\n",
    "\n",
    "print(word_index)\n",
    "print(new_word_encoding)\n",
    "\n",
    "# and/Tom are tokenized as 1('OOV')"
   ]
  },
  {
   "cell_type": "code",
   "execution_count": 5,
   "id": "d9042184",
   "metadata": {},
   "outputs": [
    {
     "name": "stdout",
     "output_type": "stream",
     "text": [
      "{'<OOV>': 1, 'jane': 2, 'really': 3, 'likes': 4, 'me': 5, 'movies': 6}\n",
      "[[2, 1, 1, 1, 1]]\n"
     ]
    }
   ],
   "source": [
    "# num_words\n",
    "\n",
    "tokenizer = Tokenizer(num_words=3, oov_token='<OOV>')\n",
    "tokenizer.fit_on_texts(sentences)\n",
    "word_index = tokenizer.word_index \n",
    "\n",
    "new_word_encoding = tokenizer.texts_to_sequences(new_sentences)\n",
    "\n",
    "print(word_index)\n",
    "print(new_word_encoding)\n",
    "\n",
    "# only Jane is tokenized as > 1"
   ]
  },
  {
   "cell_type": "code",
   "execution_count": 6,
   "id": "54f2b9cb",
   "metadata": {},
   "outputs": [
    {
     "data": {
      "text/plain": [
       "array([[1, 2, 2, 3, 4],\n",
       "       [0, 0, 1, 3, 5]])"
      ]
     },
     "execution_count": 6,
     "metadata": {},
     "output_type": "execute_result"
    }
   ],
   "source": [
    "# padding (0-fill from the front)\n",
    "\n",
    "from tensorflow.keras.preprocessing.sequence import pad_sequences\n",
    "\n",
    "padded = pad_sequences(word_encoding)\n",
    "padded"
   ]
  },
  {
   "cell_type": "code",
   "execution_count": 7,
   "id": "bca07927",
   "metadata": {},
   "outputs": [
    {
     "data": {
      "text/plain": [
       "array([[1, 2, 2, 3, 4],\n",
       "       [1, 3, 5, 0, 0]])"
      ]
     },
     "execution_count": 7,
     "metadata": {},
     "output_type": "execute_result"
    }
   ],
   "source": [
    "# padding (0-fill from the back)\n",
    "\n",
    "padded = pad_sequences(word_encoding, padding='post')\n",
    "padded"
   ]
  },
  {
   "cell_type": "code",
   "execution_count": 8,
   "id": "e87ab4cf",
   "metadata": {},
   "outputs": [
    {
     "data": {
      "text/plain": [
       "array([[2, 2, 3, 4],\n",
       "       [1, 3, 5, 0]])"
      ]
     },
     "execution_count": 8,
     "metadata": {},
     "output_type": "execute_result"
    }
   ],
   "source": [
    "# maxlen (cut from the front)\n",
    "\n",
    "padded = pad_sequences(word_encoding, padding='post', maxlen=4)\n",
    "padded"
   ]
  },
  {
   "cell_type": "code",
   "execution_count": 9,
   "id": "f4ed48ef",
   "metadata": {},
   "outputs": [
    {
     "data": {
      "text/plain": [
       "array([[1, 2, 2, 3],\n",
       "       [1, 3, 5, 0]])"
      ]
     },
     "execution_count": 9,
     "metadata": {},
     "output_type": "execute_result"
    }
   ],
   "source": [
    "# maxlen (cut from the back)\n",
    "\n",
    "padded = pad_sequences(word_encoding, padding='post', maxlen=4, truncating='post')\n",
    "padded"
   ]
  }
 ],
 "metadata": {
  "kernelspec": {
   "display_name": "Python 3 (ipykernel)",
   "language": "python",
   "name": "python3"
  },
  "language_info": {
   "codemirror_mode": {
    "name": "ipython",
    "version": 3
   },
   "file_extension": ".py",
   "mimetype": "text/x-python",
   "name": "python",
   "nbconvert_exporter": "python",
   "pygments_lexer": "ipython3",
   "version": "3.8.0"
  }
 },
 "nbformat": 4,
 "nbformat_minor": 5
}
