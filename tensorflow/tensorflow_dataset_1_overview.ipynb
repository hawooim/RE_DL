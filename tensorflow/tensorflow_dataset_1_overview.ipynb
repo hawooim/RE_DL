{
 "cells": [
  {
   "cell_type": "code",
   "execution_count": 1,
   "id": "e640fe1c",
   "metadata": {},
   "outputs": [],
   "source": [
    "# # This code allows to output more than one variable value without using a print statement.\n",
    "# from IPython.core.interactiveshell import InteractiveShell\n",
    "# InteractiveShell.ast_node_interactivity = \"all\"\n",
    "\n",
    "# # Default\n",
    "# # InteractiveShell.ast_node_interactivity = \"last_expr\""
   ]
  },
  {
   "cell_type": "code",
   "execution_count": 2,
   "id": "13095d68",
   "metadata": {},
   "outputs": [
    {
     "name": "stdout",
     "output_type": "stream",
     "text": [
      "python 3.8.0 (default, Nov  6 2019, 16:00:02) [MSC v.1916 64 bit (AMD64)]\n",
      "tensorflow 2.6.2\n",
      "tensorflow-datasets 4.4.0\n",
      "Pillow 8.3.2\n",
      "pandas 1.3.3\n",
      "numpy 1.19.5\n",
      "scipy 1.7.1\n",
      "\n",
      "Num GPUs Available: 1\n",
      "Built with CUDA: True\n",
      "Built with GPU support: True\n"
     ]
    }
   ],
   "source": [
    "# Version Check\n",
    "import sys\n",
    "import tensorflow as tf\n",
    "import tensorflow_datasets as tfds\n",
    "import PIL\n",
    "import pandas as pd\n",
    "import numpy as np\n",
    "import scipy\n",
    "print(\"python\", sys.version)\n",
    "print(\"tensorflow\", tf.__version__)\n",
    "print(\"tensorflow-datasets\", tfds.__version__)\n",
    "print(\"Pillow\", PIL.__version__)\n",
    "print(\"pandas\", pd.__version__)\n",
    "print(\"numpy\", np.__version__)\n",
    "print(\"scipy\", scipy.__version__)\n",
    "print()\n",
    "print(\"Num GPUs Available:\", len(tf.config.list_physical_devices('GPU')))\n",
    "print(\"Built with CUDA:\", tf.test.is_built_with_cuda())\n",
    "print(\"Built with GPU support:\", tf.test.is_built_with_gpu_support())"
   ]
  },
  {
   "cell_type": "markdown",
   "id": "8adb46cb",
   "metadata": {},
   "source": [
    "## cifar100"
   ]
  },
  {
   "cell_type": "code",
   "execution_count": 3,
   "id": "b2bb0aa1",
   "metadata": {},
   "outputs": [
    {
     "data": {
      "text/plain": [
       "<PrefetchDataset shapes: {coarse_label: (), id: (), image: (32, 32, 3), label: ()}, types: {coarse_label: tf.int64, id: tf.string, image: tf.uint8, label: tf.int64}>"
      ]
     },
     "execution_count": 3,
     "metadata": {},
     "output_type": "execute_result"
    }
   ],
   "source": [
    "ds = tfds.load('cifar100', split='train')\n",
    "ds"
   ]
  },
  {
   "cell_type": "code",
   "execution_count": 4,
   "id": "d53da301",
   "metadata": {},
   "outputs": [
    {
     "name": "stdout",
     "output_type": "stream",
     "text": [
      "<class 'dict'>\n"
     ]
    }
   ],
   "source": [
    "for data in ds.take(1):\n",
    "    print(type(data))"
   ]
  },
  {
   "cell_type": "code",
   "execution_count": 5,
   "id": "a997ae9f",
   "metadata": {},
   "outputs": [
    {
     "name": "stdout",
     "output_type": "stream",
     "text": [
      "{'coarse_label': <tf.Tensor: shape=(), dtype=int64, numpy=12>, 'id': <tf.Tensor: shape=(), dtype=string, numpy=b'train_16399'>, 'image': <tf.Tensor: shape=(32, 32, 3), dtype=uint8, numpy=\n",
      "array([[[151, 154, 145],\n",
      "        [144, 147, 135],\n",
      "        [141, 143, 134],\n",
      "        ...,\n",
      "        [ 44,  38,  39],\n",
      "        [112, 100,  96],\n",
      "        [145, 127, 120]],\n",
      "\n",
      "       [[153, 156, 150],\n",
      "        [141, 144, 135],\n",
      "        [139, 142, 136],\n",
      "        ...,\n",
      "        [ 68,  59,  59],\n",
      "        [131, 113, 106],\n",
      "        [121, 101,  94]],\n",
      "\n",
      "       [[163, 165, 161],\n",
      "        [150, 153, 145],\n",
      "        [147, 149, 144],\n",
      "        ...,\n",
      "        [ 75,  66,  60],\n",
      "        [101,  86,  77],\n",
      "        [ 83,  77,  73]],\n",
      "\n",
      "       ...,\n",
      "\n",
      "       [[150, 150, 162],\n",
      "        [ 51,  52,  67],\n",
      "        [ 46,  42,  56],\n",
      "        ...,\n",
      "        [ 60,  59,  48],\n",
      "        [ 71,  73,  56],\n",
      "        [ 58,  62,  44]],\n",
      "\n",
      "       [[146, 158, 168],\n",
      "        [ 92, 106, 116],\n",
      "        [ 73,  77,  85],\n",
      "        ...,\n",
      "        [ 54,  55,  40],\n",
      "        [ 59,  66,  41],\n",
      "        [ 52,  56,  28]],\n",
      "\n",
      "       [[ 92,  95, 105],\n",
      "        [ 86,  90, 100],\n",
      "        [ 77,  74,  82],\n",
      "        ...,\n",
      "        [ 59,  61,  44],\n",
      "        [ 44,  49,  26],\n",
      "        [ 51,  53,  27]]], dtype=uint8)>, 'label': <tf.Tensor: shape=(), dtype=int64, numpy=66>}\n"
     ]
    }
   ],
   "source": [
    "for data in ds.take(1):\n",
    "    print(data)"
   ]
  },
  {
   "cell_type": "code",
   "execution_count": 6,
   "id": "be802462",
   "metadata": {
    "scrolled": false
   },
   "outputs": [
    {
     "name": "stdout",
     "output_type": "stream",
     "text": [
      "image shape: (32, 32, 3), label: 66\n",
      "image shape: (32, 32, 3), label: 23\n",
      "image shape: (32, 32, 3), label: 40\n",
      "image shape: (32, 32, 3), label: 39\n",
      "image shape: (32, 32, 3), label: 7\n",
      "image shape: (32, 32, 3), label: 15\n",
      "image shape: (32, 32, 3), label: 11\n",
      "image shape: (32, 32, 3), label: 44\n",
      "image shape: (32, 32, 3), label: 76\n",
      "image shape: (32, 32, 3), label: 50\n"
     ]
    }
   ],
   "source": [
    "for data in ds.take(10):\n",
    "    image = data['image']\n",
    "    label = data['label']\n",
    "    print(f'image shape: {image.shape}, label: {label.numpy()}')"
   ]
  },
  {
   "cell_type": "code",
   "execution_count": 7,
   "id": "63c299fd",
   "metadata": {},
   "outputs": [
    {
     "name": "stdout",
     "output_type": "stream",
     "text": [
      "image shape: (32, 32, 3), label: 66\n",
      "image shape: (32, 32, 3), label: 23\n",
      "image shape: (32, 32, 3), label: 40\n",
      "image shape: (32, 32, 3), label: 39\n",
      "image shape: (32, 32, 3), label: 7\n",
      "image shape: (32, 32, 3), label: 15\n",
      "image shape: (32, 32, 3), label: 11\n",
      "image shape: (32, 32, 3), label: 44\n",
      "image shape: (32, 32, 3), label: 76\n",
      "image shape: (32, 32, 3), label: 50\n"
     ]
    }
   ],
   "source": [
    "# as_supervised=True: load as tuple (instead of dictionary)\n",
    "ds = tfds.load('cifar100', split='train', as_supervised=True)\n",
    "\n",
    "for image, label in ds.take(10):\n",
    "    print(f'image shape: {image.shape}, label: {label.numpy()}')"
   ]
  },
  {
   "cell_type": "code",
   "execution_count": 8,
   "id": "a4cac411",
   "metadata": {},
   "outputs": [
    {
     "data": {
      "text/plain": [
       "tfds.core.DatasetInfo(\n",
       "    name='cifar100',\n",
       "    full_name='cifar100/3.0.2',\n",
       "    description=\"\"\"\n",
       "    This dataset is just like the CIFAR-10, except it has 100 classes containing 600 images each. There are 500 training images and 100 testing images per class. The 100 classes in the CIFAR-100 are grouped into 20 superclasses. Each image comes with a \"fine\" label (the class to which it belongs) and a \"coarse\" label (the superclass to which it belongs).\n",
       "    \"\"\",\n",
       "    homepage='https://www.cs.toronto.edu/~kriz/cifar.html',\n",
       "    data_path='C:\\\\Users\\\\hawoo\\\\tensorflow_datasets\\\\cifar100\\\\3.0.2',\n",
       "    download_size=160.71 MiB,\n",
       "    dataset_size=132.03 MiB,\n",
       "    features=FeaturesDict({\n",
       "        'coarse_label': ClassLabel(shape=(), dtype=tf.int64, num_classes=20),\n",
       "        'id': Text(shape=(), dtype=tf.string),\n",
       "        'image': Image(shape=(32, 32, 3), dtype=tf.uint8),\n",
       "        'label': ClassLabel(shape=(), dtype=tf.int64, num_classes=100),\n",
       "    }),\n",
       "    supervised_keys=('image', 'label'),\n",
       "    disable_shuffling=False,\n",
       "    splits={\n",
       "        'test': <SplitInfo num_examples=10000, num_shards=1>,\n",
       "        'train': <SplitInfo num_examples=50000, num_shards=1>,\n",
       "    },\n",
       "    citation=\"\"\"@TECHREPORT{Krizhevsky09learningmultiple,\n",
       "        author = {Alex Krizhevsky},\n",
       "        title = {Learning multiple layers of features from tiny images},\n",
       "        institution = {},\n",
       "        year = {2009}\n",
       "    }\"\"\",\n",
       ")"
      ]
     },
     "execution_count": 8,
     "metadata": {},
     "output_type": "execute_result"
    }
   ],
   "source": [
    "# with_info=True: load info as well\n",
    "ds, info = tfds.load('cifar100', split='train', as_supervised=True, with_info = True)\n",
    "info"
   ]
  },
  {
   "cell_type": "code",
   "execution_count": null,
   "id": "412b3279",
   "metadata": {},
   "outputs": [],
   "source": []
  }
 ],
 "metadata": {
  "kernelspec": {
   "display_name": "Python 3 (ipykernel)",
   "language": "python",
   "name": "python3"
  },
  "language_info": {
   "codemirror_mode": {
    "name": "ipython",
    "version": 3
   },
   "file_extension": ".py",
   "mimetype": "text/x-python",
   "name": "python",
   "nbconvert_exporter": "python",
   "pygments_lexer": "ipython3",
   "version": "3.8.0"
  }
 },
 "nbformat": 4,
 "nbformat_minor": 5
}
