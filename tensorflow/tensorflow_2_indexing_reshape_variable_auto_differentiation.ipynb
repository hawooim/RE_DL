{
 "cells": [
  {
   "cell_type": "code",
   "execution_count": 1,
   "id": "588d80f8",
   "metadata": {},
   "outputs": [],
   "source": [
    "#This code allows to output more than one variable value without using a print statement.\n",
    "from IPython.core.interactiveshell import InteractiveShell\n",
    "InteractiveShell.ast_node_interactivity = \"all\"\n",
    "# InteractiveShell.ast_node_interactivity = \"last_expr\""
   ]
  },
  {
   "cell_type": "code",
   "execution_count": 2,
   "id": "596bf5ef",
   "metadata": {},
   "outputs": [
    {
     "name": "stdout",
     "output_type": "stream",
     "text": [
      "python 3.8.0 (default, Nov  6 2019, 16:00:02) [MSC v.1916 64 bit (AMD64)]\n",
      "tensorflow 2.6.2\n",
      "tensorflow-datasets 4.4.0\n",
      "Pillow 8.3.2\n",
      "pandas 1.3.3\n",
      "numpy 1.19.5\n",
      "scipy 1.7.1\n",
      "\n",
      "Num GPUs Available: 1\n",
      "Built with CUDA: True\n",
      "Built with GPU support: True\n"
     ]
    }
   ],
   "source": [
    "# Version Check\n",
    "import sys\n",
    "import tensorflow as tf\n",
    "import tensorflow_datasets as tfds\n",
    "import PIL\n",
    "import pandas as pd\n",
    "import numpy as np\n",
    "import scipy\n",
    "print(\"python\", sys.version)\n",
    "print(\"tensorflow\", tf.__version__)\n",
    "print(\"tensorflow-datasets\", tfds.__version__)\n",
    "print(\"Pillow\", PIL.__version__)\n",
    "print(\"pandas\", pd.__version__)\n",
    "print(\"numpy\", np.__version__)\n",
    "print(\"scipy\", scipy.__version__)\n",
    "print()\n",
    "print(\"Num GPUs Available:\", len(tf.config.list_physical_devices('GPU')))\n",
    "print(\"Built with CUDA:\", tf.test.is_built_with_cuda())\n",
    "print(\"Built with GPU support:\", tf.test.is_built_with_gpu_support())"
   ]
  },
  {
   "cell_type": "markdown",
   "id": "3fe0c9e3",
   "metadata": {},
   "source": [
    "## indexing"
   ]
  },
  {
   "cell_type": "code",
   "execution_count": 3,
   "id": "80717f38",
   "metadata": {},
   "outputs": [
    {
     "data": {
      "text/plain": [
       "<tf.Tensor: shape=(5,), dtype=int32, numpy=array([10, 20, 30, 40, 50])>"
      ]
     },
     "execution_count": 3,
     "metadata": {},
     "output_type": "execute_result"
    }
   ],
   "source": [
    "vec = tf.constant([10, 20, 30, 40, 50])\n",
    "vec"
   ]
  },
  {
   "cell_type": "code",
   "execution_count": 4,
   "id": "33149491",
   "metadata": {},
   "outputs": [
    {
     "data": {
      "text/plain": [
       "<tf.Tensor: shape=(), dtype=int32, numpy=10>"
      ]
     },
     "execution_count": 4,
     "metadata": {},
     "output_type": "execute_result"
    },
    {
     "data": {
      "text/plain": [
       "<tf.Tensor: shape=(), dtype=int32, numpy=50>"
      ]
     },
     "execution_count": 4,
     "metadata": {},
     "output_type": "execute_result"
    },
    {
     "data": {
      "text/plain": [
       "<tf.Tensor: shape=(3,), dtype=int32, numpy=array([10, 20, 30])>"
      ]
     },
     "execution_count": 4,
     "metadata": {},
     "output_type": "execute_result"
    }
   ],
   "source": [
    "vec[0]\n",
    "vec[-1]\n",
    "vec[:3]"
   ]
  },
  {
   "cell_type": "code",
   "execution_count": 5,
   "id": "a9b49180",
   "metadata": {},
   "outputs": [
    {
     "data": {
      "text/plain": [
       "<tf.Tensor: shape=(2, 3), dtype=int32, numpy=\n",
       "array([[10, 20, 30],\n",
       "       [40, 50, 60]])>"
      ]
     },
     "execution_count": 5,
     "metadata": {},
     "output_type": "execute_result"
    }
   ],
   "source": [
    "mat = tf.constant([[10, 20, 30], \n",
    "                   [40, 50, 60]])\n",
    "mat"
   ]
  },
  {
   "cell_type": "code",
   "execution_count": 6,
   "id": "b2bc1206",
   "metadata": {},
   "outputs": [
    {
     "data": {
      "text/plain": [
       "<tf.Tensor: shape=(), dtype=int32, numpy=30>"
      ]
     },
     "execution_count": 6,
     "metadata": {},
     "output_type": "execute_result"
    },
    {
     "data": {
      "text/plain": [
       "<tf.Tensor: shape=(3,), dtype=int32, numpy=array([10, 20, 30])>"
      ]
     },
     "execution_count": 6,
     "metadata": {},
     "output_type": "execute_result"
    },
    {
     "data": {
      "text/plain": [
       "<tf.Tensor: shape=(2,), dtype=int32, numpy=array([20, 50])>"
      ]
     },
     "execution_count": 6,
     "metadata": {},
     "output_type": "execute_result"
    }
   ],
   "source": [
    "mat[0, 2]\n",
    "mat[0, :]\n",
    "mat[:, 1]"
   ]
  },
  {
   "cell_type": "code",
   "execution_count": 7,
   "id": "0f90f6bc",
   "metadata": {},
   "outputs": [
    {
     "data": {
      "text/plain": [
       "<tf.Tensor: shape=(2, 2, 3), dtype=int32, numpy=\n",
       "array([[[ 10,  20,  30],\n",
       "        [ 40,  50,  60]],\n",
       "\n",
       "       [[-10, -20, -30],\n",
       "        [-40, -50, -60]]])>"
      ]
     },
     "execution_count": 7,
     "metadata": {},
     "output_type": "execute_result"
    }
   ],
   "source": [
    "tensor = tf.constant([\n",
    "    [[10, 20, 30], \n",
    "     [40, 50, 60]],\n",
    "    [[-10, -20, -30], \n",
    "     [-40, -50, -60]]\n",
    "])\n",
    "tensor"
   ]
  },
  {
   "cell_type": "code",
   "execution_count": 8,
   "id": "0c5fde1c",
   "metadata": {},
   "outputs": [
    {
     "data": {
      "text/plain": [
       "<tf.Tensor: shape=(2, 3), dtype=int32, numpy=\n",
       "array([[10, 20, 30],\n",
       "       [40, 50, 60]])>"
      ]
     },
     "execution_count": 8,
     "metadata": {},
     "output_type": "execute_result"
    },
    {
     "data": {
      "text/plain": [
       "<tf.Tensor: shape=(2, 2, 2), dtype=int32, numpy=\n",
       "array([[[ 10,  20],\n",
       "        [ 40,  50]],\n",
       "\n",
       "       [[-10, -20],\n",
       "        [-40, -50]]])>"
      ]
     },
     "execution_count": 8,
     "metadata": {},
     "output_type": "execute_result"
    }
   ],
   "source": [
    "tensor[0, :, :]\n",
    "tensor[:, :2, :2]"
   ]
  },
  {
   "cell_type": "markdown",
   "id": "c9151525",
   "metadata": {},
   "source": [
    "## tf.reshape"
   ]
  },
  {
   "cell_type": "code",
   "execution_count": 9,
   "id": "050b717d",
   "metadata": {},
   "outputs": [
    {
     "data": {
      "text/plain": [
       "<tf.Tensor: shape=(24,), dtype=int32, numpy=\n",
       "array([ 0,  1,  2,  3,  4,  5,  6,  7,  8,  9, 10, 11, 12, 13, 14, 15, 16,\n",
       "       17, 18, 19, 20, 21, 22, 23])>"
      ]
     },
     "execution_count": 9,
     "metadata": {},
     "output_type": "execute_result"
    }
   ],
   "source": [
    "tensor = tf.constant(range(0, 24))\n",
    "tensor"
   ]
  },
  {
   "cell_type": "code",
   "execution_count": 10,
   "id": "c148f06f",
   "metadata": {},
   "outputs": [
    {
     "data": {
      "text/plain": [
       "<tf.Tensor: shape=(3, 8), dtype=int32, numpy=\n",
       "array([[ 0,  1,  2,  3,  4,  5,  6,  7],\n",
       "       [ 8,  9, 10, 11, 12, 13, 14, 15],\n",
       "       [16, 17, 18, 19, 20, 21, 22, 23]])>"
      ]
     },
     "execution_count": 10,
     "metadata": {},
     "output_type": "execute_result"
    }
   ],
   "source": [
    "tensor1 = tf.reshape(tensor, [3, 8])\n",
    "tensor1"
   ]
  },
  {
   "cell_type": "code",
   "execution_count": 11,
   "id": "0a8db488",
   "metadata": {},
   "outputs": [
    {
     "data": {
      "text/plain": [
       "<tf.Tensor: shape=(6, 4), dtype=int32, numpy=\n",
       "array([[ 0,  1,  2,  3],\n",
       "       [ 4,  5,  6,  7],\n",
       "       [ 8,  9, 10, 11],\n",
       "       [12, 13, 14, 15],\n",
       "       [16, 17, 18, 19],\n",
       "       [20, 21, 22, 23]])>"
      ]
     },
     "execution_count": 11,
     "metadata": {},
     "output_type": "execute_result"
    }
   ],
   "source": [
    "tensor2 = tf.reshape(tensor1, [-1, 4])\n",
    "tensor2"
   ]
  },
  {
   "cell_type": "code",
   "execution_count": 12,
   "id": "8134a3c7",
   "metadata": {},
   "outputs": [
    {
     "data": {
      "text/plain": [
       "<tf.Tensor: shape=(24,), dtype=int32, numpy=\n",
       "array([ 0,  1,  2,  3,  4,  5,  6,  7,  8,  9, 10, 11, 12, 13, 14, 15, 16,\n",
       "       17, 18, 19, 20, 21, 22, 23])>"
      ]
     },
     "execution_count": 12,
     "metadata": {},
     "output_type": "execute_result"
    }
   ],
   "source": [
    "tensor3 = tf.reshape(tensor2, [-1])\n",
    "tensor3"
   ]
  },
  {
   "cell_type": "code",
   "execution_count": 13,
   "id": "ffcb1cc6",
   "metadata": {},
   "outputs": [
    {
     "data": {
      "text/plain": [
       "<tf.Tensor: shape=(2, 3, 4), dtype=int32, numpy=\n",
       "array([[[ 0,  1,  2,  3],\n",
       "        [ 4,  5,  6,  7],\n",
       "        [ 8,  9, 10, 11]],\n",
       "\n",
       "       [[12, 13, 14, 15],\n",
       "        [16, 17, 18, 19],\n",
       "        [20, 21, 22, 23]]])>"
      ]
     },
     "execution_count": 13,
     "metadata": {},
     "output_type": "execute_result"
    }
   ],
   "source": [
    "tensor4 = tf.reshape(tensor3, [-1, 3, 4])\n",
    "tensor4"
   ]
  },
  {
   "cell_type": "code",
   "execution_count": 14,
   "id": "45824145",
   "metadata": {},
   "outputs": [
    {
     "data": {
      "text/plain": [
       "<tf.Tensor: shape=(3, 2, 4), dtype=int32, numpy=\n",
       "array([[[ 0,  1,  2,  3],\n",
       "        [ 4,  5,  6,  7]],\n",
       "\n",
       "       [[ 8,  9, 10, 11],\n",
       "        [12, 13, 14, 15]],\n",
       "\n",
       "       [[16, 17, 18, 19],\n",
       "        [20, 21, 22, 23]]])>"
      ]
     },
     "execution_count": 14,
     "metadata": {},
     "output_type": "execute_result"
    }
   ],
   "source": [
    "tensor5 = tf.reshape(tensor4, [3, 2, 4])\n",
    "tensor5"
   ]
  },
  {
   "cell_type": "code",
   "execution_count": 15,
   "id": "8e1ec831",
   "metadata": {},
   "outputs": [
    {
     "data": {
      "text/plain": [
       "<tf.Tensor: shape=(3, 2, 2, 2), dtype=int32, numpy=\n",
       "array([[[[ 0,  1],\n",
       "         [ 2,  3]],\n",
       "\n",
       "        [[ 4,  5],\n",
       "         [ 6,  7]]],\n",
       "\n",
       "\n",
       "       [[[ 8,  9],\n",
       "         [10, 11]],\n",
       "\n",
       "        [[12, 13],\n",
       "         [14, 15]]],\n",
       "\n",
       "\n",
       "       [[[16, 17],\n",
       "         [18, 19]],\n",
       "\n",
       "        [[20, 21],\n",
       "         [22, 23]]]])>"
      ]
     },
     "execution_count": 15,
     "metadata": {},
     "output_type": "execute_result"
    }
   ],
   "source": [
    "tensor6 = tf.reshape(tensor5, [3, 2, 2, 2])\n",
    "tensor6"
   ]
  },
  {
   "cell_type": "markdown",
   "id": "b92d51c5",
   "metadata": {},
   "source": [
    "## tf.Variable(name=\" \"), tf.convert_to_tensor"
   ]
  },
  {
   "cell_type": "code",
   "execution_count": 16,
   "id": "7f31e428",
   "metadata": {},
   "outputs": [
    {
     "data": {
      "text/plain": [
       "<tf.Tensor: shape=(2, 3), dtype=int32, numpy=\n",
       "array([[0, 1, 2],\n",
       "       [3, 4, 5]])>"
      ]
     },
     "execution_count": 16,
     "metadata": {},
     "output_type": "execute_result"
    }
   ],
   "source": [
    "tensor1 = tf.constant([[0, 1, 2], \n",
    "                       [3, 4, 5]])\n",
    "tensor1"
   ]
  },
  {
   "cell_type": "code",
   "execution_count": 17,
   "id": "2c985716",
   "metadata": {},
   "outputs": [
    {
     "data": {
      "text/plain": [
       "<tf.Variable 'Variable:0' shape=(2, 3) dtype=int32, numpy=\n",
       "array([[0, 1, 2],\n",
       "       [3, 4, 5]])>"
      ]
     },
     "execution_count": 17,
     "metadata": {},
     "output_type": "execute_result"
    }
   ],
   "source": [
    "tensor_var1 = tf.Variable(tensor1)\n",
    "tensor_var1"
   ]
  },
  {
   "cell_type": "code",
   "execution_count": 18,
   "id": "7e11cf39",
   "metadata": {},
   "outputs": [
    {
     "data": {
      "text/plain": [
       "'Variable:0'"
      ]
     },
     "execution_count": 18,
     "metadata": {},
     "output_type": "execute_result"
    },
    {
     "data": {
      "text/plain": [
       "TensorShape([2, 3])"
      ]
     },
     "execution_count": 18,
     "metadata": {},
     "output_type": "execute_result"
    },
    {
     "data": {
      "text/plain": [
       "tf.int32"
      ]
     },
     "execution_count": 18,
     "metadata": {},
     "output_type": "execute_result"
    },
    {
     "data": {
      "text/plain": [
       "array([[0, 1, 2],\n",
       "       [3, 4, 5]])"
      ]
     },
     "execution_count": 18,
     "metadata": {},
     "output_type": "execute_result"
    }
   ],
   "source": [
    "tensor_var1.name\n",
    "tensor_var1.shape\n",
    "tensor_var1.dtype\n",
    "tensor_var1.numpy()"
   ]
  },
  {
   "cell_type": "code",
   "execution_count": 19,
   "id": "56a3ff69",
   "metadata": {},
   "outputs": [
    {
     "data": {
      "text/plain": [
       "<tf.Variable 'UnreadVariable' shape=(2, 3) dtype=int32, numpy=\n",
       "array([[1, 1, 1],\n",
       "       [2, 2, 2]])>"
      ]
     },
     "execution_count": 19,
     "metadata": {},
     "output_type": "execute_result"
    },
    {
     "data": {
      "text/plain": [
       "<tf.Variable 'Variable:0' shape=(2, 3) dtype=int32, numpy=\n",
       "array([[1, 1, 1],\n",
       "       [2, 2, 2]])>"
      ]
     },
     "execution_count": 19,
     "metadata": {},
     "output_type": "execute_result"
    }
   ],
   "source": [
    "tensor_var1.assign([[1, 1, 1], \n",
    "                    [2, 2, 2]])\n",
    "tensor_var1"
   ]
  },
  {
   "cell_type": "code",
   "execution_count": 20,
   "id": "4f9b23b0",
   "metadata": {},
   "outputs": [
    {
     "data": {
      "text/plain": [
       "<tf.Tensor: shape=(2, 3), dtype=int32, numpy=\n",
       "array([[1, 1, 1],\n",
       "       [2, 2, 2]])>"
      ]
     },
     "execution_count": 20,
     "metadata": {},
     "output_type": "execute_result"
    }
   ],
   "source": [
    "tensor2 = tf.convert_to_tensor(tensor_var1)\n",
    "tensor2"
   ]
  },
  {
   "cell_type": "code",
   "execution_count": 21,
   "id": "2f68cfe8",
   "metadata": {},
   "outputs": [
    {
     "data": {
      "text/plain": [
       "<tf.Variable 'New Name:0' shape=(2, 3) dtype=int32, numpy=\n",
       "array([[1, 1, 1],\n",
       "       [2, 2, 2]])>"
      ]
     },
     "execution_count": 21,
     "metadata": {},
     "output_type": "execute_result"
    }
   ],
   "source": [
    "tensor_var2 = tf.Variable(tensor2, name='New Name')\n",
    "tensor_var2"
   ]
  },
  {
   "cell_type": "code",
   "execution_count": 22,
   "id": "8a861aa8",
   "metadata": {},
   "outputs": [
    {
     "data": {
      "text/plain": [
       "'New Name:0'"
      ]
     },
     "execution_count": 22,
     "metadata": {},
     "output_type": "execute_result"
    },
    {
     "data": {
      "text/plain": [
       "TensorShape([2, 3])"
      ]
     },
     "execution_count": 22,
     "metadata": {},
     "output_type": "execute_result"
    },
    {
     "data": {
      "text/plain": [
       "tf.int32"
      ]
     },
     "execution_count": 22,
     "metadata": {},
     "output_type": "execute_result"
    },
    {
     "data": {
      "text/plain": [
       "array([[1, 1, 1],\n",
       "       [2, 2, 2]])"
      ]
     },
     "execution_count": 22,
     "metadata": {},
     "output_type": "execute_result"
    }
   ],
   "source": [
    "tensor_var2.name\n",
    "tensor_var2.shape\n",
    "tensor_var2.dtype\n",
    "tensor_var2.numpy()"
   ]
  },
  {
   "cell_type": "code",
   "execution_count": 23,
   "id": "ca00c054",
   "metadata": {},
   "outputs": [
    {
     "data": {
      "text/plain": [
       "<tf.Tensor: shape=(2, 3), dtype=int32, numpy=\n",
       "array([[2, 2, 2],\n",
       "       [4, 4, 4]])>"
      ]
     },
     "execution_count": 23,
     "metadata": {},
     "output_type": "execute_result"
    }
   ],
   "source": [
    "tensor_var1 + tensor_var2"
   ]
  },
  {
   "cell_type": "markdown",
   "id": "14bf8d23",
   "metadata": {},
   "source": [
    "## automatic differentiation"
   ]
  },
  {
   "cell_type": "code",
   "execution_count": 24,
   "id": "0aed38ed",
   "metadata": {},
   "outputs": [],
   "source": [
    "InteractiveShell.ast_node_interactivity = \"last_expr\""
   ]
  },
  {
   "cell_type": "code",
   "execution_count": 25,
   "id": "1fa74b6d",
   "metadata": {},
   "outputs": [],
   "source": [
    "# generate a dataset that has a linear relationship\n",
    "\n",
    "g = tf.random.Generator.from_seed(2022)\n",
    "x = g.normal(shape=(10, ))\n",
    "y = 3*x - 2"
   ]
  },
  {
   "cell_type": "code",
   "execution_count": 26,
   "id": "b79d16a8",
   "metadata": {},
   "outputs": [
    {
     "data": {
      "text/plain": [
       "<tf.Tensor: shape=(10,), dtype=float32, numpy=\n",
       "array([-3.3320663 ,  1.9145031 , -4.15687   , -1.8921382 ,  0.69796014,\n",
       "       -3.8876352 ,  0.8313656 , -4.6462264 ,  0.7089119 , -1.7484705 ],\n",
       "      dtype=float32)>"
      ]
     },
     "execution_count": 26,
     "metadata": {},
     "output_type": "execute_result"
    }
   ],
   "source": [
    "x\n",
    "y"
   ]
  },
  {
   "cell_type": "code",
   "execution_count": 27,
   "id": "1c89c1b0",
   "metadata": {},
   "outputs": [],
   "source": [
    "# define loss function\n",
    "\n",
    "def cal_mse(x, y, a, b):\n",
    "    \n",
    "    y_pred = a*x + b\n",
    "    squared_error = (y_pred - y)**2\n",
    "    mean_squared_error = tf.reduce_mean(squared_error)\n",
    "    \n",
    "    return mean_squared_error"
   ]
  },
  {
   "cell_type": "code",
   "execution_count": 28,
   "id": "5427a3e2",
   "metadata": {},
   "outputs": [
    {
     "name": "stdout",
     "output_type": "stream",
     "text": [
      "EPOCH: 20 - MSE: 0.7736 - a: 1.99 - b: -1.55\n",
      "EPOCH: 40 - MSE: 0.0758 - a: 2.68 - b: -1.88\n",
      "EPOCH: 60 - MSE: 0.0075 - a: 2.90 - b: -1.96\n",
      "EPOCH: 80 - MSE: 0.0008 - a: 2.97 - b: -1.99\n",
      "EPOCH: 100 - MSE: 0.0001 - a: 2.99 - b: -2.00\n",
      "EPOCH: 120 - MSE: 0.0000 - a: 3.00 - b: -2.00\n",
      "EPOCH: 140 - MSE: 0.0000 - a: 3.00 - b: -2.00\n",
      "EPOCH: 160 - MSE: 0.0000 - a: 3.00 - b: -2.00\n",
      "EPOCH: 180 - MSE: 0.0000 - a: 3.00 - b: -2.00\n",
      "EPOCH: 200 - MSE: 0.0000 - a: 3.00 - b: -2.00\n"
     ]
    }
   ],
   "source": [
    "# record automatic differentiation using tf.GradientTape\n",
    "\n",
    "# initial values\n",
    "a = tf.Variable(0.0)\n",
    "b = tf.Variable(0.0)\n",
    "\n",
    "EPOCHS = 200\n",
    "\n",
    "for epoch in range(1, EPOCHS + 1):\n",
    "    \n",
    "    with tf.GradientTape() as tape:\n",
    "        mse = cal_mse(x, y, a, b)\n",
    "   \n",
    "    grad = tape.gradient(mse, {'a': a, 'b': b})\n",
    "    d_a, d_b = grad['a'], grad['b']\n",
    "    \n",
    "    a.assign_sub(d_a * 0.05)\n",
    "    b.assign_sub(d_b * 0.05)\n",
    "    \n",
    "    if epoch % 20 == 0:\n",
    "        print(\"EPOCH: %d - MSE: %.4f - a: %.2f - b: %.2f\" %(epoch, mse, a, b))"
   ]
  },
  {
   "cell_type": "code",
   "execution_count": null,
   "id": "91112b8c",
   "metadata": {},
   "outputs": [],
   "source": []
  }
 ],
 "metadata": {
  "kernelspec": {
   "display_name": "Python 3 (ipykernel)",
   "language": "python",
   "name": "python3"
  },
  "language_info": {
   "codemirror_mode": {
    "name": "ipython",
    "version": 3
   },
   "file_extension": ".py",
   "mimetype": "text/x-python",
   "name": "python",
   "nbconvert_exporter": "python",
   "pygments_lexer": "ipython3",
   "version": "3.8.0"
  }
 },
 "nbformat": 4,
 "nbformat_minor": 5
}
