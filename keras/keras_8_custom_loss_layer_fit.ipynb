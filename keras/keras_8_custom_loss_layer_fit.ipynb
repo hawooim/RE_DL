{
 "cells": [
  {
   "cell_type": "code",
   "execution_count": 1,
   "id": "c935aec2",
   "metadata": {},
   "outputs": [],
   "source": [
    "# # This code allows to output more than one variable value without using a print statement.\n",
    "# from IPython.core.interactiveshell import InteractiveShell\n",
    "# InteractiveShell.ast_node_interactivity = \"all\"\n",
    "\n",
    "# # Default\n",
    "# # InteractiveShell.ast_node_interactivity = \"last_expr\""
   ]
  },
  {
   "cell_type": "code",
   "execution_count": 2,
   "id": "6155247c",
   "metadata": {},
   "outputs": [
    {
     "name": "stdout",
     "output_type": "stream",
     "text": [
      "python 3.8.0 (default, Nov  6 2019, 16:00:02) [MSC v.1916 64 bit (AMD64)]\n",
      "tensorflow 2.6.2\n",
      "tensorflow-datasets 4.4.0\n",
      "Pillow 8.3.2\n",
      "pandas 1.3.3\n",
      "numpy 1.19.5\n",
      "scipy 1.7.1\n",
      "\n",
      "Num GPUs Available: 1\n",
      "Built with CUDA: True\n",
      "Built with GPU support: True\n"
     ]
    }
   ],
   "source": [
    "# Version Check\n",
    "import sys\n",
    "import tensorflow as tf\n",
    "import tensorflow_datasets as tfds\n",
    "import PIL\n",
    "import pandas as pd\n",
    "import numpy as np\n",
    "import scipy\n",
    "print(\"python\", sys.version)\n",
    "print(\"tensorflow\", tf.__version__)\n",
    "print(\"tensorflow-datasets\", tfds.__version__)\n",
    "print(\"Pillow\", PIL.__version__)\n",
    "print(\"pandas\", pd.__version__)\n",
    "print(\"numpy\", np.__version__)\n",
    "print(\"scipy\", scipy.__version__)\n",
    "print()\n",
    "print(\"Num GPUs Available:\", len(tf.config.list_physical_devices('GPU')))\n",
    "print(\"Built with CUDA:\", tf.test.is_built_with_cuda())\n",
    "print(\"Built with GPU support:\", tf.test.is_built_with_gpu_support())"
   ]
  },
  {
   "cell_type": "markdown",
   "id": "2302af74",
   "metadata": {},
   "source": [
    "## Custom Loss"
   ]
  },
  {
   "cell_type": "code",
   "execution_count": 3,
   "id": "65fd8ee1",
   "metadata": {},
   "outputs": [],
   "source": [
    "# Generate sample data\n",
    "x = np.array([0, 1, 2, 3, 4], dtype=float)\n",
    "y = np.array([2, 4, 6, 8, 10], dtype=float)\n",
    "\n",
    "from tensorflow.keras.models import Sequential\n",
    "from tensorflow.keras.layers import Dense\n",
    "\n",
    "# Model\n",
    "model = Sequential([\n",
    "    Dense(units=1, input_shape=[1])\n",
    "])\n",
    "\n",
    "# Custom loss (Huber Loss)\n",
    "def custom_huber_loss(y_true, y_pred):\n",
    "    \n",
    "    threshold = 1\n",
    "    error = y_true - y_pred\n",
    "    small = tf.abs(error) <= threshold\n",
    "    \n",
    "    # l2 loss\n",
    "    small_error = tf.square(error) / 2\n",
    "    \n",
    "    # l1 loss\n",
    "    big_error = threshold * (tf.abs(error) - (threshold / 2))\n",
    "    \n",
    "    # return\n",
    "    return tf.where(small, small_error, big_error)\n",
    "\n",
    "# Compile\n",
    "model.compile(optimizer='sgd', loss=custom_huber_loss)\n",
    "\n",
    "# Fit\n",
    "history = model.fit(x, y, epochs=1000, verbose=0)"
   ]
  },
  {
   "cell_type": "code",
   "execution_count": 4,
   "id": "8eb7c74d",
   "metadata": {},
   "outputs": [
    {
     "data": {
      "text/plain": [
       "array([[14.094829]], dtype=float32)"
      ]
     },
     "execution_count": 4,
     "metadata": {},
     "output_type": "execute_result"
    }
   ],
   "source": [
    "# Predict\n",
    "model.predict([6])"
   ]
  },
  {
   "cell_type": "code",
   "execution_count": 5,
   "id": "ca42e886",
   "metadata": {},
   "outputs": [
    {
     "data": {
      "image/png": "[encoded data removed]",
      "text/plain": [
       "<Figure size 360x360 with 1 Axes>"
      ]
     },
     "metadata": {
      "needs_background": "light"
     },
     "output_type": "display_data"
    }
   ],
   "source": [
    "import matplotlib.pyplot as plt\n",
    "\n",
    "fig, ax = plt.subplots(figsize=(5, 5))\n",
    "ax.plot(history.history['loss'], label='loss')\n",
    "ax.legend()\n",
    "plt.show()"
   ]
  },
  {
   "cell_type": "markdown",
   "id": "0999aac6",
   "metadata": {},
   "source": [
    "## Custom Layer"
   ]
  },
  {
   "cell_type": "code",
   "execution_count": 6,
   "id": "164e5db5",
   "metadata": {},
   "outputs": [],
   "source": [
    "from tensorflow.keras.layers import Layer\n",
    "\n",
    "class MyDense(Layer):\n",
    "    def __init__(self, units=32, input_shape=None):\n",
    "        super(MyDense, self).__init__(input_shape=input_shape)\n",
    "        self.units=units\n",
    "        \n",
    "    def build(self, input_shape):\n",
    "        # initialize weight \n",
    "        w_init = tf.random_normal_initializer()\n",
    "        self.w = tf.Variable(name='weight', \n",
    "                             initial_value=w_init(shape=(input_shape[-1], self.units), dtype='float32'),\n",
    "                             trainable=True)\n",
    "        # initialize bias\n",
    "        b_init = tf.zeros_initializer()\n",
    "        self.b = tf.Variable(name='bias', \n",
    "                             initial_value=b_init(shape=(self.units), dtype='float32'), \n",
    "                             trainable=True)\n",
    "        \n",
    "    def call(self, inputs):\n",
    "        # wx + b\n",
    "        return tf.matmul(inputs, self.w) + self.b"
   ]
  },
  {
   "cell_type": "code",
   "execution_count": 7,
   "id": "aaaf100d",
   "metadata": {},
   "outputs": [],
   "source": [
    "# Generate sample data\n",
    "x = np.array([0, 1, 2, 3, 4], dtype=float)\n",
    "y = np.array([2, 4, 6, 8, 10], dtype=float)\n",
    "\n",
    "from tensorflow.keras.models import Sequential\n",
    "from tensorflow.keras.layers import Dense\n",
    "\n",
    "# Model\n",
    "model = Sequential([\n",
    "    MyDense(units=1, input_shape=[1])\n",
    "])\n",
    "\n",
    "# Compile\n",
    "model.compile(optimizer='sgd', loss='mse')\n",
    "\n",
    "# Fit\n",
    "history = model.fit(x, y, epochs=1000, verbose=0)"
   ]
  },
  {
   "cell_type": "code",
   "execution_count": 8,
   "id": "ebdcecf7",
   "metadata": {},
   "outputs": [
    {
     "data": {
      "text/plain": [
       "array([[14.003152]], dtype=float32)"
      ]
     },
     "execution_count": 8,
     "metadata": {},
     "output_type": "execute_result"
    }
   ],
   "source": [
    "# Predict\n",
    "model.predict([6])"
   ]
  },
  {
   "cell_type": "code",
   "execution_count": 9,
   "id": "6a27d62d",
   "metadata": {},
   "outputs": [
    {
     "data": {
      "image/png": "[encoded data removed]",
      "text/plain": [
       "<Figure size 360x360 with 1 Axes>"
      ]
     },
     "metadata": {
      "needs_background": "light"
     },
     "output_type": "display_data"
    }
   ],
   "source": [
    "import matplotlib.pyplot as plt\n",
    "\n",
    "fig, ax = plt.subplots(figsize=(5, 5))\n",
    "ax.plot(history.history['loss'], label='loss')\n",
    "ax.legend()\n",
    "plt.show()"
   ]
  },
  {
   "cell_type": "markdown",
   "id": "838349f1",
   "metadata": {},
   "source": [
    "## Custom Fit"
   ]
  },
  {
   "cell_type": "markdown",
   "id": "4688a3fc",
   "metadata": {},
   "source": [
    "### train_on_batch"
   ]
  },
  {
   "cell_type": "code",
   "execution_count": 10,
   "id": "f8961c9a",
   "metadata": {},
   "outputs": [],
   "source": [
    "# Load Data / Normalizaion\n",
    "mnist = tf.keras.datasets.mnist\n",
    "(x_train, y_train), (x_test, y_test) = mnist.load_data()\n",
    "x_train = x_train / x_train.max()\n",
    "x_test = x_test / x_test.max()\n",
    "\n",
    "# Model\n",
    "from tensorflow.keras.models import Sequential\n",
    "from tensorflow.keras.layers import Flatten, Dense\n",
    "\n",
    "model = Sequential([\n",
    "    Flatten(input_shape=(28, 28)),\n",
    "    Dense(256, activation='relu'),\n",
    "    Dense(64, activation='relu'),\n",
    "    Dense(32, activation='relu'),\n",
    "    Dense(10, activation='softmax')\n",
    "])\n",
    "\n",
    "# Compile\n",
    "model.compile(optimizer='adam', loss='sparse_categorical_crossentropy', metrics=['acc'])"
   ]
  },
  {
   "cell_type": "code",
   "execution_count": 11,
   "id": "1f6cd6dd",
   "metadata": {},
   "outputs": [],
   "source": [
    "def get_batches(x, y, batch_size=32):\n",
    "    for i in range(int(x.shape[0] // batch_size)):\n",
    "        x_batch = x[i * batch_size:(i + 1) * batch_size]\n",
    "        y_batch = y[i * batch_size:(i + 1) * batch_size]\n",
    "        yield(np.asarray(x_batch), np.asarray(y_batch))"
   ]
  },
  {
   "cell_type": "code",
   "execution_count": 12,
   "id": "ae9dc52d",
   "metadata": {},
   "outputs": [
    {
     "data": {
      "text/plain": [
       "((32, 28, 28), (32,))"
      ]
     },
     "execution_count": 12,
     "metadata": {},
     "output_type": "execute_result"
    }
   ],
   "source": [
    "x, y = next(get_batches(x_train, y_train))\n",
    "x.shape, y.shape"
   ]
  },
  {
   "cell_type": "code",
   "execution_count": 13,
   "id": "f4b3bdbe",
   "metadata": {
    "scrolled": false
   },
   "outputs": [
    {
     "name": "stdout",
     "output_type": "stream",
     "text": [
      "epoch: 1, batch:  50, batch_loss: 0.4350, batch_accuracy: 0.8359, avg_loss: 1.0281\n",
      "epoch: 1, batch: 100, batch_loss: 0.3909, batch_accuracy: 0.9062, avg_loss: 0.7175\n",
      "epoch: 1, batch: 150, batch_loss: 0.2669, batch_accuracy: 0.9219, avg_loss: 0.5921\n",
      "epoch: 1, batch: 200, batch_loss: 0.2551, batch_accuracy: 0.9219, avg_loss: 0.5079\n",
      "epoch: 1, batch: 250, batch_loss: 0.2115, batch_accuracy: 0.9219, avg_loss: 0.4565\n",
      "epoch: 1, batch: 300, batch_loss: 0.2927, batch_accuracy: 0.9297, avg_loss: 0.4165\n",
      "epoch: 1, batch: 350, batch_loss: 0.1215, batch_accuracy: 0.9609, avg_loss: 0.3878\n",
      "epoch: 1, batch: 400, batch_loss: 0.1153, batch_accuracy: 0.9688, avg_loss: 0.3670\n",
      "epoch: 1, batch: 450, batch_loss: 0.1188, batch_accuracy: 0.9609, avg_loss: 0.3441\n"
     ]
    },
    {
     "data": {
      "image/png": "[encoded data removed]",
      "text/plain": [
       "<Figure size 576x432 with 1 Axes>"
      ]
     },
     "metadata": {
      "needs_background": "light"
     },
     "output_type": "display_data"
    },
    {
     "name": "stdout",
     "output_type": "stream",
     "text": [
      "313/313 [==============================] - 1s 2ms/step - loss: 0.1525 - acc: 0.9548\n",
      "epoch: 1, val_loss: 0.1525, val_acc: 0.9548\n",
      "\n",
      "epoch: 2, batch:  50, batch_loss: 0.0827, batch_accuracy: 0.9844, avg_loss: 0.1342\n",
      "epoch: 2, batch: 100, batch_loss: 0.2012, batch_accuracy: 0.9453, avg_loss: 0.1485\n",
      "epoch: 2, batch: 150, batch_loss: 0.1412, batch_accuracy: 0.9531, avg_loss: 0.1477\n",
      "epoch: 2, batch: 200, batch_loss: 0.2342, batch_accuracy: 0.9453, avg_loss: 0.1425\n",
      "epoch: 2, batch: 250, batch_loss: 0.0975, batch_accuracy: 0.9766, avg_loss: 0.1400\n",
      "epoch: 2, batch: 300, batch_loss: 0.1826, batch_accuracy: 0.9453, avg_loss: 0.1372\n",
      "epoch: 2, batch: 350, batch_loss: 0.0668, batch_accuracy: 0.9844, avg_loss: 0.1345\n",
      "epoch: 2, batch: 400, batch_loss: 0.0806, batch_accuracy: 0.9844, avg_loss: 0.1347\n",
      "epoch: 2, batch: 450, batch_loss: 0.0587, batch_accuracy: 0.9922, avg_loss: 0.1308\n"
     ]
    },
    {
     "data": {
      "image/png": "[encoded data removed]",
      "text/plain": [
       "<Figure size 576x432 with 1 Axes>"
      ]
     },
     "metadata": {
      "needs_background": "light"
     },
     "output_type": "display_data"
    },
    {
     "name": "stdout",
     "output_type": "stream",
     "text": [
      "313/313 [==============================] - 1s 2ms/step - loss: 0.1191 - acc: 0.9630\n",
      "epoch: 2, val_loss: 0.1191, val_acc: 0.9630\n",
      "\n",
      "epoch: 3, batch:  50, batch_loss: 0.0512, batch_accuracy: 0.9922, avg_loss: 0.0849\n",
      "epoch: 3, batch: 100, batch_loss: 0.0957, batch_accuracy: 0.9844, avg_loss: 0.0922\n",
      "epoch: 3, batch: 150, batch_loss: 0.1071, batch_accuracy: 0.9609, avg_loss: 0.0908\n",
      "epoch: 3, batch: 200, batch_loss: 0.1870, batch_accuracy: 0.9609, avg_loss: 0.0893\n",
      "epoch: 3, batch: 250, batch_loss: 0.0649, batch_accuracy: 0.9922, avg_loss: 0.0897\n",
      "epoch: 3, batch: 300, batch_loss: 0.1453, batch_accuracy: 0.9531, avg_loss: 0.0889\n",
      "epoch: 3, batch: 350, batch_loss: 0.0391, batch_accuracy: 0.9922, avg_loss: 0.0876\n",
      "epoch: 3, batch: 400, batch_loss: 0.0714, batch_accuracy: 0.9766, avg_loss: 0.0877\n",
      "epoch: 3, batch: 450, batch_loss: 0.0295, batch_accuracy: 0.9922, avg_loss: 0.0853\n"
     ]
    },
    {
     "data": {
      "image/png": "[encoded data removed]",
      "text/plain": [
       "<Figure size 576x432 with 1 Axes>"
      ]
     },
     "metadata": {
      "needs_background": "light"
     },
     "output_type": "display_data"
    },
    {
     "name": "stdout",
     "output_type": "stream",
     "text": [
      "313/313 [==============================] - 1s 2ms/step - loss: 0.1309 - acc: 0.9575\n",
      "epoch: 3, val_loss: 0.1309, val_acc: 0.9575\n",
      "\n"
     ]
    }
   ],
   "source": [
    "MONITOR_STEP = 50\n",
    "\n",
    "for epoch in range(1, 4):\n",
    "    batch = 1\n",
    "    total_loss = 0\n",
    "    losses = []\n",
    "    \n",
    "    for x, y in get_batches(x_train, y_train, batch_size=128):\n",
    "        loss, acc = model.train_on_batch(x, y)\n",
    "        total_loss += loss\n",
    "        \n",
    "        if batch % MONITOR_STEP == 0:\n",
    "            losses.append(total_loss / batch)\n",
    "            print(f'epoch: {epoch}, batch: {batch:3}, batch_loss: {loss:0.4f}, batch_accuracy: {acc:0.4f}, avg_loss: {total_loss / batch:0.4f}')\n",
    "        batch += 1\n",
    "        \n",
    "    plt.figure(figsize=(8, 6))\n",
    "    plt.plot(np.arange(1, batch // MONITOR_STEP+1), losses)\n",
    "    plt.title(f'epoch: {epoch}, losses over batches')\n",
    "    plt.show()\n",
    "    \n",
    "    loss, acc = model.evaluate(x_test, y_test)\n",
    "    print(f'epoch: {epoch}, val_loss: {loss:0.4f}, val_acc: {acc:0.4f}')\n",
    "    print()"
   ]
  },
  {
   "cell_type": "markdown",
   "id": "82003da0",
   "metadata": {},
   "source": [
    "### GradientTape (automatic diffrentiation)"
   ]
  },
  {
   "cell_type": "code",
   "execution_count": 14,
   "id": "9f0621e9",
   "metadata": {},
   "outputs": [
    {
     "name": "stdout",
     "output_type": "stream",
     "text": [
      "a.trainable: True\n",
      "b.trainable: True\n"
     ]
    }
   ],
   "source": [
    "a = tf.Variable([1, 2, 3, 4, 5], dtype=tf.float32)\n",
    "b = tf.Variable([10, 20, 30, 40, 50], dtype=tf.float32)\n",
    "\n",
    "print(f'a.trainable: {a.trainable}') \n",
    "print(f'b.trainable: {b.trainable}')"
   ]
  },
  {
   "cell_type": "code",
   "execution_count": 15,
   "id": "dd2c17b2",
   "metadata": {},
   "outputs": [
    {
     "name": "stdout",
     "output_type": "stream",
     "text": [
      "dc/da: [10. 20. 30. 40. 50.]\n",
      "dc/db: [1. 2. 3. 4. 5.]\n"
     ]
    }
   ],
   "source": [
    "# c = a * b\n",
    "# partial differentian c/a -> b\n",
    "# partial differentian c/b -> a\n",
    "with tf.GradientTape() as tape:\n",
    "    c = a * b\n",
    "grads = tape.gradient(c, [a, b])\n",
    "tf.print(f'dc/da: {grads[0]}')\n",
    "tf.print(f'dc/db: {grads[1]}')"
   ]
  },
  {
   "cell_type": "code",
   "execution_count": 16,
   "id": "fc3a96b0",
   "metadata": {},
   "outputs": [
    {
     "name": "stdout",
     "output_type": "stream",
     "text": [
      "x[:5]: [ 0.7247703   0.22340381  0.8612295  -0.8638554  -1.8889452 ]\n",
      "y[:5]: [ 4.4495406   3.4468076   4.722459    1.2722892  -0.77789044]\n"
     ]
    }
   ],
   "source": [
    "x = tf.Variable(np.random.normal(size=(100,)), dtype=tf.float32)\n",
    "y = 2 * x + 3\n",
    "print(f'x[:5]: {x[:5].numpy()}')\n",
    "print(f'y[:5]: {y[:5].numpy()}')"
   ]
  },
  {
   "cell_type": "code",
   "execution_count": 17,
   "id": "03f33281",
   "metadata": {},
   "outputs": [
    {
     "data": {
      "image/png": "[encoded data removed]",
      "text/plain": [
       "<Figure size 432x288 with 1 Axes>"
      ]
     },
     "metadata": {
      "needs_background": "light"
     },
     "output_type": "display_data"
    }
   ],
   "source": [
    "fig, ax = plt.subplots(figsize=(6, 4))\n",
    "ax.plot(x.numpy(), y.numpy())\n",
    "ax.grid()\n",
    "plt.show()"
   ]
  },
  {
   "cell_type": "code",
   "execution_count": 18,
   "id": "1c51a407",
   "metadata": {},
   "outputs": [
    {
     "name": "stdout",
     "output_type": "stream",
     "text": [
      "epoch: 0, loss: 12.2344, w: 0.7731, b: 1.5237\n",
      "epoch: 1, loss:  3.3756, w: 1.2430, b: 2.2764\n",
      "epoch: 2, loss:  0.9722, w: 1.5308, b: 2.6471\n",
      "epoch: 3, loss:  0.2948, w: 1.7080, b: 2.8291\n",
      "epoch: 4, loss:  0.0945, w: 1.8177, b: 2.9180\n",
      "epoch: 5, loss:  0.0319, w: 1.8859, b: 2.9612\n",
      "epoch: 6, loss:  0.0113, w: 1.9284, b: 2.9819\n",
      "epoch: 7, loss:  0.0042, w: 1.9550, b: 2.9918\n",
      "epoch: 8, loss:  0.0016, w: 1.9717, b: 2.9964\n",
      "epoch: 9, loss:  0.0006, w: 1.9822, b: 2.9986\n",
      "epoch: 10, loss:  0.0002, w: 1.9888, b: 2.9995\n"
     ]
    }
   ],
   "source": [
    "learning_rate = 0.25\n",
    "EPOCHS = 100\n",
    "\n",
    "w = tf.Variable(0.0)\n",
    "b = tf.Variable(0.0)\n",
    "\n",
    "for epoch in range(EPOCHS):\n",
    "    with tf.GradientTape() as tape:\n",
    "        y_hat = w * x + b\n",
    "        loss = tf.reduce_mean((y_hat-y)**2)\n",
    "    dw, db = tape.gradient(loss, [w, b])\n",
    "    \n",
    "    w = tf.Variable(w - learning_rate * dw)\n",
    "    b = tf.Variable(b - learning_rate * db)\n",
    "    \n",
    "    print(f'epoch: {epoch}, loss: {loss.numpy():7.4f}, w: {w.numpy():0.4f}, b: {b.numpy():0.4f}')\n",
    "    \n",
    "    if loss.numpy() < 0.0005:\n",
    "        break"
   ]
  },
  {
   "cell_type": "markdown",
   "id": "28cc6663",
   "metadata": {},
   "source": [
    "### GradientTape (fit w/ automatic diffrentiation)"
   ]
  },
  {
   "cell_type": "code",
   "execution_count": 19,
   "id": "6d46d91f",
   "metadata": {},
   "outputs": [],
   "source": [
    "model = Sequential([\n",
    "    Flatten(input_shape=(28, 28)),\n",
    "    Dense(256, activation='relu'),\n",
    "    Dense(64, activation='relu'),\n",
    "    Dense(32, activation='relu'),\n",
    "    Dense(10, activation='softmax')\n",
    "])"
   ]
  },
  {
   "cell_type": "code",
   "execution_count": 20,
   "id": "9d3553c8",
   "metadata": {},
   "outputs": [],
   "source": [
    "loss_function = tf.keras.losses.SparseCategoricalCrossentropy()\n",
    "optimizer = tf.keras.optimizers.Adam()"
   ]
  },
  {
   "cell_type": "code",
   "execution_count": 21,
   "id": "5bc30b49",
   "metadata": {},
   "outputs": [],
   "source": [
    "train_loss = tf.keras.metrics.Mean(name='train_loss')\n",
    "train_acc = tf.keras.metrics.SparseCategoricalAccuracy(name='train_acc')\n",
    "valid_loss = tf.keras.metrics.Mean(name='valid_loss')\n",
    "valid_acc = tf.keras.metrics.SparseCategoricalAccuracy(name='valid_acc')"
   ]
  },
  {
   "cell_type": "code",
   "execution_count": 22,
   "id": "7e823943",
   "metadata": {},
   "outputs": [],
   "source": [
    "def get_batches(x, y, batch_size=32):\n",
    "    for i in range(int(x.shape[0] // batch_size)):\n",
    "        x_batch = x[i * batch_size:(i + 1) * batch_size]\n",
    "        y_batch = y[i * batch_size:(i + 1) * batch_size]\n",
    "        yield(np.asarray(x_batch), np.asarray(y_batch))"
   ]
  },
  {
   "cell_type": "code",
   "execution_count": 23,
   "id": "4682bd0b",
   "metadata": {},
   "outputs": [],
   "source": [
    "@tf.function\n",
    "def train_step(images, labels):\n",
    "    with tf.GradientTape() as tape:\n",
    "        prediction = model(images, training=True)\n",
    "        loss = loss_function(labels, prediction)\n",
    "        gradients = tape.gradient(loss, model.trainable_variables)\n",
    "        optimizer.apply_gradients(zip(gradients, model.trainable_variables))\n",
    "        train_loss(loss)\n",
    "        train_acc(labels, prediction)\n",
    "        \n",
    "@tf.function\n",
    "def valid_step(images, labels):\n",
    "    prediction = model(images, training=False)\n",
    "    loss = loss_function(labels, prediction)\n",
    "    valid_loss(loss)\n",
    "    valid_acc(labels, prediction)"
   ]
  },
  {
   "cell_type": "code",
   "execution_count": 24,
   "id": "686aa7df",
   "metadata": {},
   "outputs": [
    {
     "name": "stdout",
     "output_type": "stream",
     "text": [
      "epoch: 1, loss: 0.2430, acc: 0.9287, val_loss: 0.1412, val_acc: 0.9568\n",
      "epoch: 2, loss: 0.1718, acc: 0.9492, val_loss: 0.1262, val_acc: 0.9621\n",
      "epoch: 3, loss: 0.1369, acc: 0.9593, val_loss: 0.1214, val_acc: 0.9635\n",
      "epoch: 4, loss: 0.1148, acc: 0.9657, val_loss: 0.1131, val_acc: 0.9664\n",
      "epoch: 5, loss: 0.0995, acc: 0.9701, val_loss: 0.1217, val_acc: 0.9653\n"
     ]
    }
   ],
   "source": [
    "train_loss.reset_states()\n",
    "train_acc.reset_states()\n",
    "valid_loss.reset_states()\n",
    "valid_acc.reset_states()\n",
    "\n",
    "for epoch in range(5):\n",
    "    for images, labels in get_batches(x_train, y_train):\n",
    "        train_step(images, labels)\n",
    "        \n",
    "    for images, labels in get_batches(x_test, y_test):\n",
    "        valid_step(images, labels)\n",
    "        \n",
    "    metric_template = 'epoch: {}, loss: {:0.4f}, acc: {:0.4f}, val_loss: {:0.4f}, val_acc: {:0.4f}'\n",
    "    print(metric_template.format(epoch+1, train_loss.result(), train_acc.result(), valid_loss.result(), valid_acc.result()))"
   ]
  },
  {
   "cell_type": "code",
   "execution_count": null,
   "id": "8a56ff0f",
   "metadata": {},
   "outputs": [],
   "source": []
  }
 ],
 "metadata": {
  "kernelspec": {
   "display_name": "Python 3 (ipykernel)",
   "language": "python",
   "name": "python3"
  },
  "language_info": {
   "codemirror_mode": {
    "name": "ipython",
    "version": 3
   },
   "file_extension": ".py",
   "mimetype": "text/x-python",
   "name": "python",
   "nbconvert_exporter": "python",
   "pygments_lexer": "ipython3",
   "version": "3.8.0"
  }
 },
 "nbformat": 4,
 "nbformat_minor": 5
}
