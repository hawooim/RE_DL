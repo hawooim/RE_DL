{
 "cells": [
  {
   "cell_type": "code",
   "execution_count": 1,
   "id": "f864fe93",
   "metadata": {},
   "outputs": [],
   "source": [
    "# # This code allows to output more than one variable value without using a print statement.\n",
    "# from IPython.core.interactiveshell import InteractiveShell\n",
    "# InteractiveShell.ast_node_interactivity = \"all\"\n",
    "\n",
    "# # Default\n",
    "# # InteractiveShell.ast_node_interactivity = \"last_expr\""
   ]
  },
  {
   "cell_type": "code",
   "execution_count": 2,
   "id": "ef922260",
   "metadata": {},
   "outputs": [
    {
     "name": "stdout",
     "output_type": "stream",
     "text": [
      "python 3.8.0 (default, Nov  6 2019, 16:00:02) [MSC v.1916 64 bit (AMD64)]\n",
      "tensorflow 2.6.2\n",
      "tensorflow-datasets 4.4.0\n",
      "Pillow 8.3.2\n",
      "pandas 1.3.3\n",
      "numpy 1.19.5\n",
      "scipy 1.7.1\n",
      "\n",
      "Num GPUs Available: 1\n",
      "Built with CUDA: True\n",
      "Built with GPU support: True\n"
     ]
    }
   ],
   "source": [
    "# Version Check\n",
    "import sys\n",
    "import tensorflow as tf\n",
    "import tensorflow_datasets as tfds\n",
    "import PIL\n",
    "import pandas as pd\n",
    "import numpy as np\n",
    "import scipy\n",
    "print(\"python\", sys.version)\n",
    "print(\"tensorflow\", tf.__version__)\n",
    "print(\"tensorflow-datasets\", tfds.__version__)\n",
    "print(\"Pillow\", PIL.__version__)\n",
    "print(\"pandas\", pd.__version__)\n",
    "print(\"numpy\", np.__version__)\n",
    "print(\"scipy\", scipy.__version__)\n",
    "print()\n",
    "print(\"Num GPUs Available:\", len(tf.config.list_physical_devices('GPU')))\n",
    "print(\"Built with CUDA:\", tf.test.is_built_with_cuda())\n",
    "print(\"Built with GPU support:\", tf.test.is_built_with_gpu_support())"
   ]
  },
  {
   "cell_type": "markdown",
   "id": "ff81f5a1",
   "metadata": {},
   "source": [
    "## Load dataset"
   ]
  },
  {
   "cell_type": "code",
   "execution_count": 3,
   "id": "55d056a0",
   "metadata": {},
   "outputs": [
    {
     "name": "stdout",
     "output_type": "stream",
     "text": [
      "train set: (60000, 28, 28) (60000,)\n",
      "test set : (10000, 28, 28) (10000,)\n",
      "\n"
     ]
    }
   ],
   "source": [
    "# Load dataset\n",
    "mnist = tf.keras.datasets.mnist\n",
    "(x_train, y_train), (x_test, y_test) = mnist.load_data()\n",
    "\n",
    "print('train set:', x_train.shape, y_train.shape)\n",
    "print('test set :', x_test.shape, y_test.shape)\n",
    "print()\n",
    "\n",
    "# Normalization\n",
    "x_train = x_train / x_train.max()\n",
    "x_test = x_test / x_test.max()"
   ]
  },
  {
   "cell_type": "markdown",
   "id": "93ed1249",
   "metadata": {},
   "source": [
    "## Sequential API"
   ]
  },
  {
   "cell_type": "code",
   "execution_count": 4,
   "id": "9e14684c",
   "metadata": {},
   "outputs": [
    {
     "name": "stdout",
     "output_type": "stream",
     "text": [
      "Model: \"sequential\"\n",
      "_________________________________________________________________\n",
      "Layer (type)                 Output Shape              Param #   \n",
      "=================================================================\n",
      "flatten (Flatten)            (None, 784)               0         \n",
      "_________________________________________________________________\n",
      "dense (Dense)                (None, 256)               200960    \n",
      "_________________________________________________________________\n",
      "dense_1 (Dense)              (None, 64)                16448     \n",
      "_________________________________________________________________\n",
      "dense_2 (Dense)              (None, 32)                2080      \n",
      "_________________________________________________________________\n",
      "dense_3 (Dense)              (None, 10)                330       \n",
      "=================================================================\n",
      "Total params: 219,818\n",
      "Trainable params: 219,818\n",
      "Non-trainable params: 0\n",
      "_________________________________________________________________\n"
     ]
    }
   ],
   "source": [
    "from tensorflow.keras.models import Sequential\n",
    "from tensorflow.keras.layers import Flatten, Dense\n",
    "\n",
    "model = Sequential([\n",
    "    Flatten(input_shape=(28, 28)),\n",
    "    Dense(256, activation='relu'),\n",
    "    Dense(64, activation='relu'),\n",
    "    Dense(32, activation='relu'),\n",
    "    Dense(10, activation='softmax'),\n",
    "])\n",
    "\n",
    "model.summary()"
   ]
  },
  {
   "cell_type": "markdown",
   "id": "89707c4d",
   "metadata": {},
   "source": [
    "## 7-1. Functional API"
   ]
  },
  {
   "cell_type": "code",
   "execution_count": 5,
   "id": "459f3ec5",
   "metadata": {},
   "outputs": [],
   "source": [
    "# Input layer\n",
    "input_layer = tf.keras.Input(shape=(28, 28), name='InputLayer')\n",
    "\n",
    "# Chain dense layers\n",
    "x1 = Flatten(name='Flatten')(input_layer)\n",
    "x2 = Dense(256, activation='relu', name='Dense1')(x1)\n",
    "x3 = Dense(64, activation='relu', name='Dense2')(x2)\n",
    "x4 = Dense(32, activation='relu', name='Dense3')(x3)\n",
    "x5 = Dense(10, activation='softmax', name='OutputLayer')(x4)"
   ]
  },
  {
   "cell_type": "code",
   "execution_count": 6,
   "id": "5b041cc2",
   "metadata": {},
   "outputs": [
    {
     "name": "stdout",
     "output_type": "stream",
     "text": [
      "Model: \"FunctionalModel\"\n",
      "_________________________________________________________________\n",
      "Layer (type)                 Output Shape              Param #   \n",
      "=================================================================\n",
      "InputLayer (InputLayer)      [(None, 28, 28)]          0         \n",
      "_________________________________________________________________\n",
      "Flatten (Flatten)            (None, 784)               0         \n",
      "_________________________________________________________________\n",
      "Dense1 (Dense)               (None, 256)               200960    \n",
      "_________________________________________________________________\n",
      "Dense2 (Dense)               (None, 64)                16448     \n",
      "_________________________________________________________________\n",
      "Dense3 (Dense)               (None, 32)                2080      \n",
      "_________________________________________________________________\n",
      "OutputLayer (Dense)          (None, 10)                330       \n",
      "=================================================================\n",
      "Total params: 219,818\n",
      "Trainable params: 219,818\n",
      "Non-trainable params: 0\n",
      "_________________________________________________________________\n"
     ]
    }
   ],
   "source": [
    "functional_model = tf.keras.Model(inputs=input_layer, outputs=x5, name='FunctionalModel')\n",
    "functional_model.summary()"
   ]
  },
  {
   "cell_type": "code",
   "execution_count": 7,
   "id": "69727c85",
   "metadata": {},
   "outputs": [
    {
     "data": {
      "image/png": "[encoded data removed]",
      "text/plain": [
       "<IPython.core.display.Image object>"
      ]
     },
     "execution_count": 7,
     "metadata": {},
     "output_type": "execute_result"
    }
   ],
   "source": [
    "# Model structure visualization\n",
    "from tensorflow.keras.utils import plot_model\n",
    "\n",
    "plot_model(functional_model, show_shapes=True, show_layer_names=True, to_file='model.png')"
   ]
  },
  {
   "cell_type": "code",
   "execution_count": 8,
   "id": "ec6c330c",
   "metadata": {},
   "outputs": [
    {
     "name": "stdout",
     "output_type": "stream",
     "text": [
      "Epoch 1/10\n",
      "1875/1875 [==============================] - 5s 2ms/step - loss: 0.2320 - acc: 0.9296 - val_loss: 0.1203 - val_acc: 0.9621\n",
      "Epoch 2/10\n",
      "1875/1875 [==============================] - 4s 2ms/step - loss: 0.0915 - acc: 0.9717 - val_loss: 0.0947 - val_acc: 0.9703\n",
      "Epoch 3/10\n",
      "1875/1875 [==============================] - 4s 2ms/step - loss: 0.0660 - acc: 0.9789 - val_loss: 0.0996 - val_acc: 0.9691\n",
      "Epoch 4/10\n",
      "1875/1875 [==============================] - 4s 2ms/step - loss: 0.0512 - acc: 0.9839 - val_loss: 0.0844 - val_acc: 0.9754\n",
      "Epoch 5/10\n",
      "1875/1875 [==============================] - 4s 2ms/step - loss: 0.0381 - acc: 0.9872 - val_loss: 0.0839 - val_acc: 0.9779\n",
      "Epoch 6/10\n",
      "1875/1875 [==============================] - 4s 2ms/step - loss: 0.0329 - acc: 0.9896 - val_loss: 0.0774 - val_acc: 0.9772\n",
      "Epoch 7/10\n",
      "1875/1875 [==============================] - 4s 2ms/step - loss: 0.0278 - acc: 0.9909 - val_loss: 0.0826 - val_acc: 0.9769\n",
      "Epoch 8/10\n",
      "1875/1875 [==============================] - 4s 2ms/step - loss: 0.0226 - acc: 0.9923 - val_loss: 0.0994 - val_acc: 0.9780\n",
      "Epoch 9/10\n",
      "1875/1875 [==============================] - 4s 2ms/step - loss: 0.0214 - acc: 0.9931 - val_loss: 0.0856 - val_acc: 0.9796\n",
      "Restoring model weights from the end of the best epoch.\n",
      "Epoch 00009: early stopping\n"
     ]
    },
    {
     "data": {
      "text/plain": [
       "<keras.callbacks.History at 0x2598fcd5340>"
      ]
     },
     "execution_count": 8,
     "metadata": {},
     "output_type": "execute_result"
    }
   ],
   "source": [
    "# Compile\n",
    "functional_model.compile(optimizer='adam', loss='sparse_categorical_crossentropy', metrics=['acc'])\n",
    "\n",
    "# Callback\n",
    "from tensorflow.keras.callbacks import EarlyStopping\n",
    "monitor = EarlyStopping(monitor='val_loss', patience=3, verbose=1, mode='auto', restore_best_weights=True)\n",
    "\n",
    "# Fit\n",
    "functional_model.fit(x_train, y_train, \n",
    "                     validation_data=(x_test, y_test), \n",
    "                     epochs=10, verbose=1, \n",
    "                     callbacks=[monitor])"
   ]
  },
  {
   "cell_type": "code",
   "execution_count": 9,
   "id": "b1547627",
   "metadata": {},
   "outputs": [
    {
     "name": "stdout",
     "output_type": "stream",
     "text": [
      "313/313 [==============================] - 1s 2ms/step - loss: 0.0774 - acc: 0.9772\n"
     ]
    },
    {
     "data": {
      "text/plain": [
       "[0.07739053666591644, 0.9771999716758728]"
      ]
     },
     "execution_count": 9,
     "metadata": {},
     "output_type": "execute_result"
    }
   ],
   "source": [
    "functional_model.evaluate(x_test, y_test)"
   ]
  },
  {
   "cell_type": "markdown",
   "id": "ffc7b766",
   "metadata": {},
   "source": [
    "## 7-2 Model Subclassing"
   ]
  },
  {
   "cell_type": "code",
   "execution_count": 12,
   "id": "fe15bbaf",
   "metadata": {},
   "outputs": [],
   "source": [
    "class MyModel(tf.keras.Model):\n",
    "    def __init__(self):\n",
    "        super(MyModel, self).__init__()\n",
    "        # 초기값 설정\n",
    "        self.flatten = tf.keras.layers.Flatten()\n",
    "        self.dense1 = tf.keras.layers.Dense(256, activation='relu')\n",
    "        self.dense2 = tf.keras.layers.Dense(64, activation='relu')\n",
    "        self.dense3 = tf.keras.layers.Dense(32, activation='relu')\n",
    "        self.dense4 = tf.keras.layers.Dense(10, activation='softmax')\n",
    "        \n",
    "    # method overriding\n",
    "    # 훈련용 함수 정의\n",
    "    # x는 input\n",
    "    def call(self, x):\n",
    "        x = self.flatten(x)\n",
    "        x = self.dense1(x)\n",
    "        x = self.dense2(x)\n",
    "        x = self.dense3(x)\n",
    "        x = self.dense4(x)\n",
    "        return x"
   ]
  },
  {
   "cell_type": "code",
   "execution_count": 15,
   "id": "d356fdd4",
   "metadata": {},
   "outputs": [
    {
     "name": "stdout",
     "output_type": "stream",
     "text": [
      "Model: \"subclass_model\"\n",
      "_________________________________________________________________\n",
      "Layer (type)                 Output Shape              Param #   \n",
      "=================================================================\n",
      "flatten_3 (Flatten)          multiple                  0         \n",
      "_________________________________________________________________\n",
      "dense_12 (Dense)             multiple                  200960    \n",
      "_________________________________________________________________\n",
      "dense_13 (Dense)             multiple                  16448     \n",
      "_________________________________________________________________\n",
      "dense_14 (Dense)             multiple                  2080      \n",
      "_________________________________________________________________\n",
      "dense_15 (Dense)             multiple                  330       \n",
      "=================================================================\n",
      "Total params: 219,818\n",
      "Trainable params: 219,818\n",
      "Non-trainable params: 0\n",
      "_________________________________________________________________\n"
     ]
    }
   ],
   "source": [
    "mymodel = MyModel()\n",
    "mymodel._name = 'subclass_model'\n",
    "mymodel(tf.keras.layers.Input(shape=(28,28)))\n",
    "mymodel.summary()"
   ]
  },
  {
   "cell_type": "code",
   "execution_count": 20,
   "id": "348a06bd",
   "metadata": {},
   "outputs": [
    {
     "name": "stdout",
     "output_type": "stream",
     "text": [
      "Epoch 1/10\n",
      "1875/1875 [==============================] - 5s 2ms/step - loss: 0.2246 - acc: 0.9331 - val_loss: 0.1190 - val_acc: 0.9639\n",
      "Epoch 2/10\n",
      "1875/1875 [==============================] - 4s 2ms/step - loss: 0.0945 - acc: 0.9719 - val_loss: 0.1087 - val_acc: 0.9678\n",
      "Epoch 3/10\n",
      "1875/1875 [==============================] - 4s 2ms/step - loss: 0.0661 - acc: 0.9793 - val_loss: 0.0882 - val_acc: 0.9734\n",
      "Epoch 4/10\n",
      "1875/1875 [==============================] - 4s 2ms/step - loss: 0.0500 - acc: 0.9844 - val_loss: 0.0801 - val_acc: 0.9749\n",
      "Epoch 5/10\n",
      "1875/1875 [==============================] - 4s 2ms/step - loss: 0.0400 - acc: 0.9869 - val_loss: 0.0827 - val_acc: 0.9775\n",
      "Epoch 6/10\n",
      "1875/1875 [==============================] - 4s 2ms/step - loss: 0.0331 - acc: 0.9893 - val_loss: 0.0814 - val_acc: 0.9792\n",
      "Epoch 7/10\n",
      "1875/1875 [==============================] - 4s 2ms/step - loss: 0.0287 - acc: 0.9908 - val_loss: 0.0923 - val_acc: 0.9768\n",
      "Restoring model weights from the end of the best epoch.\n",
      "Epoch 00007: early stopping\n"
     ]
    }
   ],
   "source": [
    "# Compile\n",
    "mymodel.compile(optimizer='adam', loss='sparse_categorical_crossentropy', metrics=['acc'])\n",
    "\n",
    "# Callback\n",
    "from tensorflow.keras.callbacks import EarlyStopping\n",
    "monitor = EarlyStopping(monitor='val_loss', patience=3, verbose=1, mode='auto', restore_best_weights=True)\n",
    "\n",
    "# Fit\n",
    "history = mymodel.fit(x_train, y_train, validation_data=(x_test, y_test), epochs=10, verbose=1, callbacks=[monitor])"
   ]
  },
  {
   "cell_type": "markdown",
   "id": "10047bff",
   "metadata": {},
   "source": [
    "## 7-3. Subclassing Model Parameters"
   ]
  },
  {
   "cell_type": "code",
   "execution_count": 24,
   "id": "65900317",
   "metadata": {},
   "outputs": [],
   "source": [
    "class MyModel(tf.keras.Model):\n",
    "    def __init__(self, units, num_classes):   # self, units, num_classes\n",
    "        super(MyModel, self).__init__()\n",
    "        # 초기값 설정\n",
    "        self.flatten = tf.keras.layers.Flatten()\n",
    "        self.dense1 = tf.keras.layers.Dense(256, activation='relu')\n",
    "        self.dense2 = tf.keras.layers.Dense(64, activation='relu')\n",
    "        self.dense3 = tf.keras.layers.Dense(32, activation='relu')\n",
    "        self.dense4 = tf.keras.layers.Dense(10, activation='softmax')\n",
    "        \n",
    "    # method overriding\n",
    "    # 훈련용 함수 정의\n",
    "    # x는 input\n",
    "    def call(self, x):\n",
    "        x = self.flatten(x)\n",
    "        x = self.dense1(x)\n",
    "        x = self.dense2(x)\n",
    "        x = self.dense3(x)\n",
    "        x = self.dense4(x)\n",
    "        return x"
   ]
  },
  {
   "cell_type": "code",
   "execution_count": 26,
   "id": "c5ee9dac",
   "metadata": {},
   "outputs": [
    {
     "name": "stdout",
     "output_type": "stream",
     "text": [
      "Model: \"subclass_model\"\n",
      "_________________________________________________________________\n",
      "Layer (type)                 Output Shape              Param #   \n",
      "=================================================================\n",
      "flatten_5 (Flatten)          multiple                  0         \n",
      "_________________________________________________________________\n",
      "dense_20 (Dense)             multiple                  200960    \n",
      "_________________________________________________________________\n",
      "dense_21 (Dense)             multiple                  16448     \n",
      "_________________________________________________________________\n",
      "dense_22 (Dense)             multiple                  2080      \n",
      "_________________________________________________________________\n",
      "dense_23 (Dense)             multiple                  330       \n",
      "=================================================================\n",
      "Total params: 219,818\n",
      "Trainable params: 219,818\n",
      "Non-trainable params: 0\n",
      "_________________________________________________________________\n"
     ]
    }
   ],
   "source": [
    "mymodel = MyModel(256, 10)   # 256, 10\n",
    "mymodel._name = 'subclass_model'\n",
    "mymodel(tf.keras.layers.Input(shape=(28,28)))\n",
    "mymodel.summary()"
   ]
  },
  {
   "cell_type": "code",
   "execution_count": 27,
   "id": "d04816ab",
   "metadata": {},
   "outputs": [
    {
     "name": "stdout",
     "output_type": "stream",
     "text": [
      "Epoch 1/10\n",
      "1875/1875 [==============================] - 5s 2ms/step - loss: 0.2286 - acc: 0.9327 - val_loss: 0.1233 - val_acc: 0.9606\n",
      "Epoch 2/10\n",
      "1875/1875 [==============================] - 4s 2ms/step - loss: 0.0946 - acc: 0.9708 - val_loss: 0.1091 - val_acc: 0.9660\n",
      "Epoch 3/10\n",
      "1875/1875 [==============================] - 4s 2ms/step - loss: 0.0653 - acc: 0.9795 - val_loss: 0.0809 - val_acc: 0.9753\n",
      "Epoch 4/10\n",
      "1875/1875 [==============================] - 4s 2ms/step - loss: 0.0507 - acc: 0.9841 - val_loss: 0.0781 - val_acc: 0.9764\n",
      "Epoch 5/10\n",
      "1875/1875 [==============================] - 4s 2ms/step - loss: 0.0394 - acc: 0.9871 - val_loss: 0.0879 - val_acc: 0.9757\n",
      "Epoch 6/10\n",
      "1875/1875 [==============================] - 4s 2ms/step - loss: 0.0335 - acc: 0.9895 - val_loss: 0.0945 - val_acc: 0.9747\n",
      "Epoch 7/10\n",
      "1875/1875 [==============================] - 5s 2ms/step - loss: 0.0295 - acc: 0.9904 - val_loss: 0.0947 - val_acc: 0.9766\n",
      "Restoring model weights from the end of the best epoch.\n",
      "Epoch 00007: early stopping\n"
     ]
    }
   ],
   "source": [
    "# Compile\n",
    "mymodel.compile(optimizer='adam', loss='sparse_categorical_crossentropy', metrics=['acc'])\n",
    "\n",
    "# Callback\n",
    "from tensorflow.keras.callbacks import EarlyStopping\n",
    "monitor = EarlyStopping(monitor='val_loss', patience=3, verbose=1, mode='auto', restore_best_weights=True)\n",
    "\n",
    "# Fit\n",
    "history = mymodel.fit(x_train, y_train, validation_data=(x_test, y_test), epochs=10, verbose=1, callbacks=[monitor])"
   ]
  },
  {
   "cell_type": "code",
   "execution_count": null,
   "id": "4a646cc4",
   "metadata": {},
   "outputs": [],
   "source": []
  }
 ],
 "metadata": {
  "kernelspec": {
   "display_name": "Python 3 (ipykernel)",
   "language": "python",
   "name": "python3"
  },
  "language_info": {
   "codemirror_mode": {
    "name": "ipython",
    "version": 3
   },
   "file_extension": ".py",
   "mimetype": "text/x-python",
   "name": "python",
   "nbconvert_exporter": "python",
   "pygments_lexer": "ipython3",
   "version": "3.8.0"
  }
 },
 "nbformat": 4,
 "nbformat_minor": 5
}
