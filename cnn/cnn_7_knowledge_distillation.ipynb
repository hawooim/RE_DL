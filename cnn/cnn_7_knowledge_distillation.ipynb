{
 "cells": [
  {
   "cell_type": "code",
   "execution_count": 1,
   "id": "5ecb072f",
   "metadata": {},
   "outputs": [
    {
     "name": "stdout",
     "output_type": "stream",
     "text": [
      "python 3.8.0 (default, Nov  6 2019, 16:00:02) [MSC v.1916 64 bit (AMD64)]\n",
      "tensorflow 2.6.2\n",
      "tensorflow-datasets 4.4.0\n",
      "Pillow 8.3.2\n",
      "pandas 1.3.3\n",
      "numpy 1.19.5\n",
      "scipy 1.7.1\n",
      "\n",
      "Num GPUs Available: 1\n",
      "Built with CUDA: True\n",
      "Built with GPU support: True\n"
     ]
    }
   ],
   "source": [
    "# Version Check\n",
    "import sys\n",
    "import tensorflow as tf\n",
    "import tensorflow_datasets as tfds\n",
    "import PIL\n",
    "import pandas as pd\n",
    "import numpy as np\n",
    "import scipy\n",
    "print(\"python\", sys.version)\n",
    "print(\"tensorflow\", tf.__version__)\n",
    "print(\"tensorflow-datasets\", tfds.__version__)\n",
    "print(\"Pillow\", PIL.__version__)\n",
    "print(\"pandas\", pd.__version__)\n",
    "print(\"numpy\", np.__version__)\n",
    "print(\"scipy\", scipy.__version__)\n",
    "print()\n",
    "print(\"Num GPUs Available:\", len(tf.config.list_physical_devices('GPU')))\n",
    "print(\"Built with CUDA:\", tf.test.is_built_with_cuda())\n",
    "print(\"Built with GPU support:\", tf.test.is_built_with_gpu_support())"
   ]
  },
  {
   "cell_type": "code",
   "execution_count": 2,
   "id": "10f8bed6",
   "metadata": {},
   "outputs": [],
   "source": [
    "from tqdm import tqdm"
   ]
  },
  {
   "cell_type": "code",
   "execution_count": 17,
   "id": "d3f81cae",
   "metadata": {},
   "outputs": [],
   "source": [
    "# @title parameters (work in colab)\n",
    "t_epoch = 10 # @param {type:\"slider\", min:1, max:100, step:1}\n",
    "s_epoch = 5 # @param {type:\"slider\", min:1, max:100, step:1}\n",
    "learning_rate = 0.01 \n",
    "batch_size = 64 # @param [32, 64, 128, 256] {type:\"raw\"}\n",
    "temperature = 3 # @param {type:\"slider\", min:1, max:10, step:1}\n",
    "alpha = 0.5 # @param {type:\"slider\", min:0.1, max:0.9, step:0.1}"
   ]
  },
  {
   "cell_type": "code",
   "execution_count": 18,
   "id": "5ca86971",
   "metadata": {},
   "outputs": [],
   "source": [
    "# mnist dataset\n",
    "(x_train, y_train), (x_test, y_test) = tf.keras.datasets.mnist.load_data()\n",
    "\n",
    "x_train = x_train.astype('float32') / 255.0\n",
    "x_train = np.reshape(x_train, (-1, 28, 28, 1))\n",
    "\n",
    "x_test = x_test.astype('float32') / 255.0\n",
    "x_test = np.reshape(x_test, (-1, 28, 28, 1))"
   ]
  },
  {
   "cell_type": "code",
   "execution_count": 19,
   "id": "927a646f",
   "metadata": {},
   "outputs": [
    {
     "name": "stdout",
     "output_type": "stream",
     "text": [
      "Model: \"model_2\"\n",
      "_________________________________________________________________\n",
      "Layer (type)                 Output Shape              Param #   \n",
      "=================================================================\n",
      "input_4 (InputLayer)         [(None, 28, 28, 1)]       0         \n",
      "_________________________________________________________________\n",
      "conv2d_2 (Conv2D)            (None, 14, 14, 256)       2560      \n",
      "_________________________________________________________________\n",
      "leaky_re_lu_1 (LeakyReLU)    (None, 14, 14, 256)       0         \n",
      "_________________________________________________________________\n",
      "max_pooling2d_1 (MaxPooling2 (None, 14, 14, 256)       0         \n",
      "_________________________________________________________________\n",
      "conv2d_3 (Conv2D)            (None, 7, 7, 512)         1180160   \n",
      "_________________________________________________________________\n",
      "flatten_2 (Flatten)          (None, 25088)             0         \n",
      "_________________________________________________________________\n",
      "dense_3 (Dense)              (None, 10)                250890    \n",
      "=================================================================\n",
      "Total params: 1,433,610\n",
      "Trainable params: 1,433,610\n",
      "Non-trainable params: 0\n",
      "_________________________________________________________________\n"
     ]
    }
   ],
   "source": [
    "# teacher model\n",
    "\n",
    "from tensorflow.keras import Input, Model\n",
    "from tensorflow.keras.layers import Conv2D, LeakyReLU, MaxPooling2D, Flatten, Dense\n",
    "\n",
    "i = Input(shape=(28, 28, 1))\n",
    "out = Conv2D(256, (3, 3), strides=(2, 2), padding='same')(i)\n",
    "out = LeakyReLU(alpha=0.2)(out)\n",
    "out = MaxPooling2D(pool_size=(2, 2), strides=(1, 1), padding='same')(out)\n",
    "out = Conv2D(512, (3, 3), strides=(2, 2), padding='same')(out)\n",
    "out = Flatten()(out)\n",
    "out = Dense(10)(out)\n",
    "\n",
    "t_model = Model(inputs=[i], outputs=[out])\n",
    "\n",
    "t_model.summary()"
   ]
  },
  {
   "cell_type": "code",
   "execution_count": 20,
   "id": "4f6463d2",
   "metadata": {},
   "outputs": [
    {
     "name": "stdout",
     "output_type": "stream",
     "text": [
      "Model: \"model_3\"\n",
      "_________________________________________________________________\n",
      "Layer (type)                 Output Shape              Param #   \n",
      "=================================================================\n",
      "input_5 (InputLayer)         [(None, 28, 28, 1)]       0         \n",
      "_________________________________________________________________\n",
      "flatten_3 (Flatten)          (None, 784)               0         \n",
      "_________________________________________________________________\n",
      "dense_4 (Dense)              (None, 28)                21980     \n",
      "_________________________________________________________________\n",
      "dense_5 (Dense)              (None, 10)                290       \n",
      "=================================================================\n",
      "Total params: 22,270\n",
      "Trainable params: 22,270\n",
      "Non-trainable params: 0\n",
      "_________________________________________________________________\n"
     ]
    }
   ],
   "source": [
    "# student model\n",
    "i = Input(shape=(28, 28, 1))\n",
    "out = Flatten()(i)\n",
    "out = Dense(28)(out)\n",
    "out = Dense(10)(out)\n",
    "\n",
    "s_model_1 = Model(inputs=[i], outputs=[out])\n",
    "s_model_2 = tf.keras.models.clone_model(s_model_1)\n",
    "\n",
    "s_model_1.summary()"
   ]
  },
  {
   "cell_type": "code",
   "execution_count": 21,
   "id": "17d75f92",
   "metadata": {},
   "outputs": [],
   "source": [
    "# Compile\n",
    "\n",
    "# teacher model\n",
    "t_model.compile(optimizer=tf.keras.optimizers.Adam(learning_rate), \n",
    "                loss=tf.keras.losses.SparseCategoricalCrossentropy(from_logits=True), \n",
    "                metrics=[tf.keras.metrics.SparseCategoricalAccuracy()])\n",
    "\n",
    "# student model 1 (disitillation)\n",
    "s_model_1.compile(optimizer=tf.keras.optimizers.Adam(learning_rate), \n",
    "                  loss=tf.keras.losses.SparseCategoricalCrossentropy(from_logits=True), \n",
    "                  metrics=[tf.keras.metrics.SparseCategoricalAccuracy()])\n",
    "\n",
    "# student model 2 (no disitillation)\n",
    "s_model_2.compile(optimizer=tf.keras.optimizers.Adam(learning_rate), \n",
    "                  loss=tf.keras.losses.SparseCategoricalCrossentropy(from_logits=True), \n",
    "                  metrics=[tf.keras.metrics.SparseCategoricalAccuracy()])"
   ]
  },
  {
   "cell_type": "code",
   "execution_count": 22,
   "id": "9b39c957",
   "metadata": {},
   "outputs": [
    {
     "name": "stdout",
     "output_type": "stream",
     "text": [
      "Epoch 1/10\n",
      "938/938 [==============================] - 14s 9ms/step - loss: 0.6116 - sparse_categorical_accuracy: 0.9179: 0s - loss: 0.6175 - sparse_categorical_accuracy: 0.\n",
      "Epoch 2/10\n",
      "938/938 [==============================] - 8s 8ms/step - loss: 13.7271 - sparse_categorical_accuracy: 0.9388\n",
      "Epoch 3/10\n",
      "938/938 [==============================] - 8s 8ms/step - loss: 4.2478 - sparse_categorical_accuracy: 0.9592\n",
      "Epoch 4/10\n",
      "938/938 [==============================] - 8s 8ms/step - loss: 6.2723 - sparse_categorical_accuracy: 0.9579\n",
      "Epoch 5/10\n",
      "938/938 [==============================] - 8s 8ms/step - loss: 10.1318 - sparse_categorical_accuracy: 0.9581\n",
      "Epoch 6/10\n",
      "938/938 [==============================] - 8s 8ms/step - loss: 9.3736 - sparse_categorical_accuracy: 0.9657\n",
      "Epoch 7/10\n",
      "938/938 [==============================] - 8s 8ms/step - loss: 8.8047 - sparse_categorical_accuracy: 0.9706A: 3s - los - ETA: 0s - loss: 8.6624 - sparse_categorical_accu\n",
      "Epoch 8/10\n",
      "938/938 [==============================] - 8s 8ms/step - loss: 12.9564 - sparse_categorical_accuracy: 0.9688\n",
      "Epoch 9/10\n",
      "938/938 [==============================] - 8s 8ms/step - loss: 10.4590 - sparse_categorical_accuracy: 0.9741\n",
      "Epoch 10/10\n",
      "938/938 [==============================] - 8s 8ms/step - loss: 12.2802 - sparse_categorical_accuracy: 0.9754\n"
     ]
    }
   ],
   "source": [
    "# Fit\n",
    "\n",
    "# teacher model\n",
    "t_history = t_model.fit(x_train, y_train, batch_size=batch_size, epochs=t_epoch)"
   ]
  },
  {
   "cell_type": "code",
   "execution_count": 24,
   "id": "1feae4bb",
   "metadata": {},
   "outputs": [],
   "source": [
    "# student loss function\n",
    "s_loss = tf.keras.losses.SparseCategoricalCrossentropy(from_logits=True)\n",
    "\n",
    "# distillation loss function\n",
    "d_loss = tf.keras.losses.KLDivergence()"
   ]
  },
  {
   "cell_type": "code",
   "execution_count": 25,
   "id": "d671bc34",
   "metadata": {},
   "outputs": [
    {
     "data": {
      "text/plain": [
       "(60000, 28, 28, 1)"
      ]
     },
     "execution_count": 25,
     "metadata": {},
     "output_type": "execute_result"
    }
   ],
   "source": [
    "x_train.shape"
   ]
  },
  {
   "cell_type": "code",
   "execution_count": 31,
   "id": "85bf5062",
   "metadata": {},
   "outputs": [
    {
     "name": "stdout",
     "output_type": "stream",
     "text": [
      "epoch 0\n",
      "case1. when the teacher teachs\n",
      "313/313 [==============================] - 1s 1ms/step - loss: 0.4838 - sparse_categorical_accuracy: 0.8973\n",
      "case2. when the student studies alone\n",
      "313/313 [==============================] - 0s 1ms/step - loss: 0.3462 - sparse_categorical_accuracy: 0.9019\n",
      "\n",
      "\n",
      "epoch 1\n",
      "case1. when the teacher teachs\n",
      "313/313 [==============================] - 0s 1ms/step - loss: 0.4487 - sparse_categorical_accuracy: 0.9122\n",
      "case2. when the student studies alone\n",
      "313/313 [==============================] - 0s 1ms/step - loss: 0.3440 - sparse_categorical_accuracy: 0.9067\n",
      "\n",
      "\n",
      "epoch 2\n",
      "case1. when the teacher teachs\n",
      "313/313 [==============================] - 0s 1ms/step - loss: 0.4332 - sparse_categorical_accuracy: 0.9162\n",
      "case2. when the student studies alone\n",
      "313/313 [==============================] - 0s 1ms/step - loss: 0.3240 - sparse_categorical_accuracy: 0.9124\n",
      "\n",
      "\n",
      "epoch 3\n",
      "case1. when the teacher teachs\n",
      "313/313 [==============================] - 0s 1ms/step - loss: 0.4711 - sparse_categorical_accuracy: 0.9052\n",
      "case2. when the student studies alone\n",
      "313/313 [==============================] - 0s 1ms/step - loss: 0.3666 - sparse_categorical_accuracy: 0.9010\n",
      "\n",
      "\n",
      "epoch 4\n",
      "case1. when the teacher teachs\n",
      "313/313 [==============================] - 0s 1ms/step - loss: 0.4724 - sparse_categorical_accuracy: 0.9089\n",
      "case2. when the student studies alone\n",
      "313/313 [==============================] - 0s 1ms/step - loss: 0.3554 - sparse_categorical_accuracy: 0.9031\n",
      "\n",
      "\n"
     ]
    }
   ],
   "source": [
    "batch_count = x_train.shape[0] // batch_size\n",
    "opt = tf.keras.optimizers.Adam(learning_rate)\n",
    "\n",
    "for e in range(s_epoch):\n",
    "    for _ in range(batch_count):\n",
    "        batch_num=np.random.randint(0, x_train.shape[0], size=batch_size)\n",
    "        t_pred = t_model.predict(x_train[batch_num])\n",
    "        \n",
    "        with tf.GradientTape()as tape:\n",
    "            s_pred_1 = s_model_1(x_train[batch_num])\n",
    "            student_loss = s_loss(y_train[batch_num], s_pred_1)\n",
    "            distillation_loss = d_loss(\n",
    "                tf.nn.softmax(t_pred / temperature, axis=1), \n",
    "                tf.nn.softmax(s_pred_1 / temperature, axis=1)\n",
    "            )\n",
    "            loss = alpha * student_loss + (1 - alpha) * distillation_loss\n",
    "            \n",
    "        vars = s_model_1.trainable_variables\n",
    "        grad = tape.gradient(loss, vars)\n",
    "        opt.apply_gradients(zip(grad, vars))\n",
    "        \n",
    "        with tf.GradientTape() as tape:\n",
    "            s_pred_2 = s_model_2(x_train[batch_num])\n",
    "            student_loss = s_loss(y_train[batch_num], s_pred_2)\n",
    "        \n",
    "        vars = s_model_2.trainable_variables\n",
    "        grad = tape.gradient(student_loss, vars)\n",
    "        opt.apply_gradients(zip(grad, vars))\n",
    "    \n",
    "    print(\"epoch {}\".format(e))\n",
    "    print(\"case1. when the teacher teachs\")\n",
    "    s_model_1.evaluate(x_test, y_test)\n",
    "    print(\"case2. when the student studies alone\")\n",
    "    s_model_2.evaluate(x_test, y_test)\n",
    "    print(\"\\n\")"
   ]
  },
  {
   "cell_type": "code",
   "execution_count": null,
   "id": "ecb66fb8",
   "metadata": {},
   "outputs": [],
   "source": []
  }
 ],
 "metadata": {
  "kernelspec": {
   "display_name": "Python 3 (ipykernel)",
   "language": "python",
   "name": "python3"
  },
  "language_info": {
   "codemirror_mode": {
    "name": "ipython",
    "version": 3
   },
   "file_extension": ".py",
   "mimetype": "text/x-python",
   "name": "python",
   "nbconvert_exporter": "python",
   "pygments_lexer": "ipython3",
   "version": "3.8.0"
  }
 },
 "nbformat": 4,
 "nbformat_minor": 5
}
